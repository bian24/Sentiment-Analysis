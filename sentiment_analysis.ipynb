{
 "cells": [
  {
   "cell_type": "code",
   "execution_count": 37,
   "metadata": {},
   "outputs": [],
   "source": [
    "import matplotlib.pyplot as plt\n",
    "import pandas as pd\n",
    "import seaborn as sns\n",
    "from sklearn.model_selection import train_test_split"
   ]
  },
  {
   "cell_type": "code",
   "execution_count": 38,
   "metadata": {},
   "outputs": [
    {
     "name": "stderr",
     "output_type": "stream",
     "text": [
      "Found cached dataset financial_phrasebank (C:/Users/fabian/.cache/huggingface/datasets/financial_phrasebank/sentences_50agree/1.0.0/550bde12e6c30e2674da973a55f57edde5181d53f5a5a34c1531c53f93b7e141)\n"
     ]
    },
    {
     "data": {
      "application/vnd.jupyter.widget-view+json": {
       "model_id": "db0e555d25994717bf48fad0b626ec49",
       "version_major": 2,
       "version_minor": 0
      },
      "text/plain": [
       "  0%|          | 0/1 [00:00<?, ?it/s]"
      ]
     },
     "metadata": {},
     "output_type": "display_data"
    }
   ],
   "source": [
    "from datasets import load_dataset\n",
    "dataset = load_dataset(\"financial_phrasebank\", \"sentences_50agree\")\n",
    "\n",
    "df = dataset['train'].to_pandas()"
   ]
  },
  {
   "cell_type": "code",
   "execution_count": 39,
   "metadata": {},
   "outputs": [
    {
     "data": {
      "text/plain": [
       "<Axes: >"
      ]
     },
     "execution_count": 39,
     "metadata": {},
     "output_type": "execute_result"
    },
    {
     "data": {
      "image/png": "[encoded data removed]",
      "text/plain": [
       "<Figure size 640x480 with 1 Axes>"
      ]
     },
     "metadata": {},
     "output_type": "display_data"
    }
   ],
   "source": [
    "count = df['label'].value_counts()\n",
    "bar_data = pd.DataFrame({'negative': [count[0]], 'neutral': [count[1]]\n",
    "        , 'positive': [count[2]]})\n",
    "sns.barplot(data=bar_data)"
   ]
  },
  {
   "cell_type": "markdown",
   "metadata": {},
   "source": [
    "# Preprocessing"
   ]
  },
  {
   "cell_type": "code",
   "execution_count": 40,
   "metadata": {},
   "outputs": [],
   "source": [
    "from nltk.corpus import stopwords\n",
    "from nltk.tokenize import word_tokenize\n",
    "from nltk.stem import WordNetLemmatizer\n",
    "import re"
   ]
  },
  {
   "cell_type": "code",
   "execution_count": 41,
   "metadata": {},
   "outputs": [],
   "source": [
    "# Lemmatize\n",
    "lemma = WordNetLemmatizer()\n",
    "stopwords = stopwords.words('english')\n",
    "\n",
    "def clean_text(text: str) -> list:\n",
    "    corpus = str(text).lower()\n",
    "    corpus = re.sub('[^a-zA-Z]+',' ', corpus).strip()\n",
    "    tokens = word_tokenize(corpus)\n",
    "    words = [i for i in tokens if i not in stopwords]\n",
    "    lemmatize = [lemma.lemmatize(w) for w in words]\n",
    "\n",
    "    return lemmatize\n",
    "\n",
    "preprocess_text = [clean_text(i) for i in df['sentence']]\n",
    "df['preprocess_text'] = preprocess_text"
   ]
  },
  {
   "cell_type": "markdown",
   "metadata": {},
   "source": [
    "# Method 1 Positive and Negative Word Count with Normalization"
   ]
  },
  {
   "cell_type": "code",
   "execution_count": 42,
   "metadata": {},
   "outputs": [],
   "source": [
    "# Importing list of positive and negative words\n",
    "with open('positive-words.txt', 'r') as file1:\n",
    "    pos_words = file1.read()\n",
    "\n",
    "with open('negative-words.txt', 'r') as file2:\n",
    "    neg_words = file2.read()\n",
    "\n",
    "pos_words = [i for i in pos_words.split('\\n')]\n",
    "neg_words = [i for i in neg_words.split('\\n')]\n",
    "\n",
    "count_pos = df['preprocess_text'].map(lambda x: len([i for i in x if i in pos_words]))\n",
    "count_neg = df['preprocess_text'].map(lambda x: len([i for i in x if i in neg_words]))\n",
    "\n",
    "df['count_pos'] = count_pos\n",
    "df['count_neg'] = count_neg\n",
    "\n",
    "df['total_len'] = df['preprocess_text'].map(lambda x: len(x))\n",
    "\n",
    "df['sentiment_score'] = round((df['count_pos'] - df['count_neg']) /df['total_len'], 2)\n"
   ]
  },
  {
   "cell_type": "code",
   "execution_count": 62,
   "metadata": {},
   "outputs": [
    {
     "name": "stdout",
     "output_type": "stream",
     "text": [
      "The overall accuracy with a threshold of 0.01 is 54.91%\n",
      "The overall accuracy with a threshold of 0.02 is 54.91%\n",
      "The overall accuracy with a threshold of 0.05 is 55.28%\n",
      "The overall accuracy with a threshold of 0.1 is 57.94%\n",
      "The overall accuracy with a threshold of 0.2 is 59.33%\n",
      "The overall accuracy with a threshold of 0.5 is 59.29%\n",
      "The overall accuracy with a threshold of 0.75 is 59.33%\n",
      "The overall accuracy with a threshold of 1 is 59.39%\n"
     ]
    }
   ],
   "source": [
    "'''\n",
    "Let's test the accuracy of the sentiment score\n",
    "We set an arbitrary classification rule of the following:\n",
    "\n",
    "sentiment_score < -threshold     ---> Negative\n",
    "-threshold<=sentiment_score<=threshold ---> Neutral\n",
    "sentiment_score > threshold     ---> Positive\n",
    "\n",
    "with the threshold being a value we can set.\n",
    "'''\n",
    "\n",
    "def score_classification(score, threshold):\n",
    "    if score < -threshold:\n",
    "        res = 0\n",
    "    elif score <= threshold:\n",
    "        res = 1\n",
    "    else:\n",
    "        res = 2\n",
    "    \n",
    "    return res\n",
    "\n",
    "thresholds = [0.01, 0.02, 0.05, 0.10, 0.2, 0.5, 0.75, 1] # list of threshold values we can test\n",
    "\n",
    "for threshold in thresholds:\n",
    "    df['sentiment_score {}'.format(threshold)] = df['sentiment_score'].map(lambda x: score_classification(x, threshold))\n",
    "    result = df.apply(lambda x: 1 if x['sentiment_score {}'.format(threshold)] == x['label'] else 0, axis=1).sum()\n",
    "    df.drop(['sentiment_score {}'.format(threshold)], axis=1)\n",
    "    accuracy = result / len(df) * 100\n",
    "    print(\"The overall accuracy with a threshold of {} is {:.2f}%\".format(threshold, accuracy))\n"
   ]
  },
  {
   "cell_type": "markdown",
   "metadata": {},
   "source": [
    "## Method 2 VADER SentimentIntensityAnalyser"
   ]
  },
  {
   "cell_type": "code",
   "execution_count": 54,
   "metadata": {},
   "outputs": [],
   "source": [
    "from nltk.sentiment.vader import SentimentIntensityAnalyzer"
   ]
  },
  {
   "cell_type": "code",
   "execution_count": 59,
   "metadata": {},
   "outputs": [],
   "source": [
    "sent = SentimentIntensityAnalyzer()\n",
    "\n",
    "polarity = [round(sent.polarity_scores(t)['compound'], 2) for t in df['sentence']]\n",
    "df['sentiment_score (VADER)'] = polarity"
   ]
  },
  {
   "cell_type": "code",
   "execution_count": 63,
   "metadata": {},
   "outputs": [
    {
     "name": "stdout",
     "output_type": "stream",
     "text": [
      "The overall accuracy (VADER) with a threshold of 0.01 is 30.69%\n",
      "The overall accuracy (VADER) with a threshold of 0.02 is 30.69%\n",
      "The overall accuracy (VADER) with a threshold of 0.05 is 30.69%\n",
      "The overall accuracy (VADER) with a threshold of 0.1 is 30.69%\n",
      "The overall accuracy (VADER) with a threshold of 0.2 is 30.69%\n",
      "The overall accuracy (VADER) with a threshold of 0.5 is 30.69%\n",
      "The overall accuracy (VADER) with a threshold of 0.75 is 30.69%\n",
      "The overall accuracy (VADER) with a threshold of 1 is 54.52%\n"
     ]
    }
   ],
   "source": [
    "# Using the same rule of classification as before\n",
    "for threshold in thresholds:\n",
    "    df['sentiment_score (VADER) {}'.format(threshold)] = df['sentiment_score (VADER)'].map(lambda x: score_classification(x, threshold))\n",
    "    result = df.apply(lambda x: 1 if x['sentiment_score (VADER) {}'.format(threshold)] == x['label'] else 0, axis=1).sum()\n",
    "    df.drop(['sentiment_score {}'.format(threshold)], axis=1)\n",
    "    accuracy = result / len(df) * 100\n",
    "    print(\"The overall accuracy (VADER) with a threshold of {} is {:.2f}%\".format(threshold, accuracy))\n"
   ]
  },
  {
   "cell_type": "markdown",
   "metadata": {},
   "source": [
    "# Train Test Split"
   ]
  },
  {
   "cell_type": "code",
   "execution_count": 45,
   "metadata": {},
   "outputs": [],
   "source": [
    "X_train, X_test, y_train, y_test = train_test_split(\n",
    "    df['sentence'], df['label'], test_size=0.2, random_state=42)"
   ]
  },
  {
   "cell_type": "code",
   "execution_count": 46,
   "metadata": {},
   "outputs": [
    {
     "data": {
      "text/plain": [
       "'\\nLook at the medium article to handle imbalanced class\\n'"
      ]
     },
     "execution_count": 46,
     "metadata": {},
     "output_type": "execute_result"
    }
   ],
   "source": [
    "'''\n",
    "Look at the medium article to handle imbalanced class\n",
    "'''"
   ]
  }
 ],
 "metadata": {
  "kernelspec": {
   "display_name": "base",
   "language": "python",
   "name": "python3"
  },
  "language_info": {
   "codemirror_mode": {
    "name": "ipython",
    "version": 3
   },
   "file_extension": ".py",
   "mimetype": "text/x-python",
   "name": "python",
   "nbconvert_exporter": "python",
   "pygments_lexer": "ipython3",
   "version": "3.11.5"
  }
 },
 "nbformat": 4,
 "nbformat_minor": 2
}
