{
 "cells": [
  {
   "cell_type": "code",
   "execution_count": 2,
   "metadata": {},
   "outputs": [],
   "source": [
    "import matplotlib.pyplot as plt\n",
    "import pandas as pd\n",
    "import seaborn as sns\n",
    "from sklearn.model_selection import train_test_split"
   ]
  },
  {
   "cell_type": "code",
   "execution_count": 3,
   "metadata": {},
   "outputs": [
    {
     "name": "stderr",
     "output_type": "stream",
     "text": [
      "c:\\Users\\fabian\\anaconda3\\Lib\\site-packages\\tqdm\\auto.py:21: TqdmWarning: IProgress not found. Please update jupyter and ipywidgets. See https://ipywidgets.readthedocs.io/en/stable/user_install.html\n",
      "  from .autonotebook import tqdm as notebook_tqdm\n"
     ]
    }
   ],
   "source": [
    "from datasets import load_dataset\n",
    "dataset = load_dataset(\"financial_phrasebank\", \"sentences_50agree\")\n",
    "\n",
    "df = dataset['train'].to_pandas()"
   ]
  },
  {
   "cell_type": "code",
   "execution_count": 4,
   "metadata": {},
   "outputs": [
    {
     "data": {
      "text/plain": [
       "<Axes: >"
      ]
     },
     "execution_count": 4,
     "metadata": {},
     "output_type": "execute_result"
    },
    {
     "data": {
      "image/png": "[encoded data removed]",
      "text/plain": [
       "<Figure size 640x480 with 1 Axes>"
      ]
     },
     "metadata": {},
     "output_type": "display_data"
    }
   ],
   "source": [
    "count = df['label'].value_counts()\n",
    "bar_data = pd.DataFrame({'negative': [count[0]], 'neutral': [count[1]]\n",
    "        , 'positive': [count[2]]})\n",
    "sns.barplot(data=bar_data)"
   ]
  },
  {
   "cell_type": "markdown",
   "metadata": {},
   "source": [
    "# Preprocessing"
   ]
  },
  {
   "cell_type": "code",
   "execution_count": 5,
   "metadata": {},
   "outputs": [],
   "source": [
    "from nltk.corpus import stopwords\n",
    "from nltk.tokenize import word_tokenize\n",
    "from nltk.stem import WordNetLemmatizer\n",
    "import re"
   ]
  },
  {
   "cell_type": "code",
   "execution_count": 6,
   "metadata": {},
   "outputs": [],
   "source": [
    "# Lemmatize\n",
    "lemma = WordNetLemmatizer()\n",
    "stopwords = stopwords.words('english')\n",
    "\n",
    "def clean_text(text: str) -> list:\n",
    "    corpus = str(text).lower()\n",
    "    corpus = re.sub('[^a-zA-Z]+',' ', corpus).strip()\n",
    "    tokens = word_tokenize(corpus)\n",
    "    words = [i for i in tokens if i not in stopwords]\n",
    "    lemmatize = [lemma.lemmatize(w) for w in words]\n",
    "\n",
    "    return lemmatize\n",
    "\n",
    "preprocess_text = [clean_text(i) for i in df['sentence']]\n",
    "df['preprocess_text'] = preprocess_text"
   ]
  },
  {
   "cell_type": "markdown",
   "metadata": {},
   "source": [
    "# Method 1 Positive and Negative Word Count with Normalization"
   ]
  },
  {
   "cell_type": "code",
   "execution_count": 7,
   "metadata": {},
   "outputs": [],
   "source": [
    "# Importing list of positive and negative words\n",
    "with open('positive-words.txt', 'r') as file1:\n",
    "    pos_words = file1.read()\n",
    "\n",
    "with open('negative-words.txt', 'r') as file2:\n",
    "    neg_words = file2.read()\n",
    "\n",
    "pos_words = [i for i in pos_words.split('\\n')]\n",
    "neg_words = [i for i in neg_words.split('\\n')]\n",
    "\n",
    "count_pos = df['preprocess_text'].map(lambda x: len([i for i in x if i in pos_words]))\n",
    "count_neg = df['preprocess_text'].map(lambda x: len([i for i in x if i in neg_words]))\n",
    "\n",
    "df['count_pos'] = count_pos\n",
    "df['count_neg'] = count_neg\n",
    "\n",
    "df['total_len'] = df['preprocess_text'].map(lambda x: len(x))\n",
    "\n",
    "df['sentiment_score'] = round((df['count_pos'] - df['count_neg']) /df['total_len'], 2)\n"
   ]
  },
  {
   "cell_type": "code",
   "execution_count": 8,
   "metadata": {},
   "outputs": [
    {
     "name": "stdout",
     "output_type": "stream",
     "text": [
      "The overall accuracy with a threshold of 0.01 is 54.91%\n",
      "The overall accuracy with a threshold of 0.02 is 54.91%\n",
      "The overall accuracy with a threshold of 0.05 is 55.28%\n",
      "The overall accuracy with a threshold of 0.1 is 57.94%\n",
      "The overall accuracy with a threshold of 0.2 is 59.33%\n",
      "The overall accuracy with a threshold of 0.5 is 59.29%\n",
      "The overall accuracy with a threshold of 0.75 is 59.33%\n",
      "The overall accuracy with a threshold of 1 is 59.39%\n"
     ]
    }
   ],
   "source": [
    "'''\n",
    "Let's test the accuracy of the sentiment score\n",
    "We set an arbitrary classification rule of the following:\n",
    "\n",
    "sentiment_score < -threshold     ---> Negative\n",
    "-threshold<=sentiment_score<=threshold ---> Neutral\n",
    "sentiment_score > threshold     ---> Positive\n",
    "\n",
    "with the threshold being a value we can set.\n",
    "'''\n",
    "\n",
    "def score_classification(score, threshold):\n",
    "    if score < -threshold:\n",
    "        res = 0\n",
    "    elif score <= threshold:\n",
    "        res = 1\n",
    "    else:\n",
    "        res = 2\n",
    "    \n",
    "    return res\n",
    "\n",
    "thresholds = [0.01, 0.02, 0.05, 0.10, 0.2, 0.5, 0.75, 1] # list of threshold values we can test\n",
    "\n",
    "for threshold in thresholds:\n",
    "    df['sentiment_score {}'.format(threshold)] = df['sentiment_score'].map(lambda x: score_classification(x, threshold))\n",
    "    result = df.apply(lambda x: 1 if x['sentiment_score {}'.format(threshold)] == x['label'] else 0, axis=1).sum()\n",
    "    df.drop(['sentiment_score {}'.format(threshold)], axis=1)\n",
    "    accuracy = result / len(df) * 100\n",
    "    print(\"The overall accuracy with a threshold of {} is {:.2f}%\".format(threshold, accuracy))\n"
   ]
  },
  {
   "cell_type": "markdown",
   "metadata": {},
   "source": [
    "## Method 2 VADER SentimentIntensityAnalyser"
   ]
  },
  {
   "cell_type": "code",
   "execution_count": 9,
   "metadata": {},
   "outputs": [],
   "source": [
    "from nltk.sentiment.vader import SentimentIntensityAnalyzer\n",
    "sent = SentimentIntensityAnalyzer()\n",
    "\n",
    "polarity = [round(sent.polarity_scores(t)['compound'], 2) for t in df['sentence']]\n",
    "df['sentiment_score (VADER)'] = polarity"
   ]
  },
  {
   "cell_type": "code",
   "execution_count": 10,
   "metadata": {},
   "outputs": [
    {
     "name": "stdout",
     "output_type": "stream",
     "text": [
      "The overall accuracy (VADER) with a threshold of 0.01 is 54.27%\n",
      "The overall accuracy (VADER) with a threshold of 0.02 is 54.25%\n",
      "The overall accuracy (VADER) with a threshold of 0.05 is 54.44%\n",
      "The overall accuracy (VADER) with a threshold of 0.1 is 54.97%\n",
      "The overall accuracy (VADER) with a threshold of 0.2 is 55.43%\n",
      "The overall accuracy (VADER) with a threshold of 0.5 is 61.33%\n",
      "The overall accuracy (VADER) with a threshold of 0.75 is 59.68%\n",
      "The overall accuracy (VADER) with a threshold of 1 is 59.41%\n"
     ]
    }
   ],
   "source": [
    "# Using the same rule of classification as before\n",
    "for threshold in thresholds:\n",
    "    df['sentiment_score (VADER) {}'.format(threshold)] = df['sentiment_score (VADER)'].map(lambda x: score_classification(x, threshold))\n",
    "    result = df.apply(lambda x: 1 if x['sentiment_score (VADER) {}'.format(threshold)] == x['label'] else 0, axis=1).sum()\n",
    "    df.drop(['sentiment_score {}'.format(threshold)], axis=1)\n",
    "    accuracy = result / len(df) * 100\n",
    "    print(\"The overall accuracy (VADER) with a threshold of {} is {:.2f}%\".format(threshold, accuracy))\n"
   ]
  },
  {
   "cell_type": "markdown",
   "metadata": {},
   "source": [
    "## Method 3 Using TF-IDF and Scikit-Learn classifiers"
   ]
  },
  {
   "cell_type": "code",
   "execution_count": 11,
   "metadata": {},
   "outputs": [],
   "source": [
    "# We need to pre process text in a different way for this method\n",
    "combine_words = lambda x: ' '.join(i for i in x)\n",
    "df['preprocess_text'] = df['preprocess_text'].apply(combine_words)"
   ]
  },
  {
   "cell_type": "code",
   "execution_count": 12,
   "metadata": {},
   "outputs": [
    {
     "name": "stdout",
     "output_type": "stream",
     "text": [
      "Train: ((3634,), (3634,)), Test: ((1212,), (1212,))\n"
     ]
    },
    {
     "data": {
      "text/plain": [
       "4229      resident access block planned aleksandri street\n",
       "2598    company operates business two reportable segme...\n",
       "4524    however increase signaling traffic waste netwo...\n",
       "1161    ahlstrom corporation stock exchange release ah...\n",
       "1873    winner included honda odyssey minivan nissan a...\n",
       "                              ...                        \n",
       "4426    currency effect pct mln euro mln negative impa...\n",
       "466     lidskoe pivo investment program foresees integ...\n",
       "3092    product include consumer electronics device mo...\n",
       "3772              bridge part highway development project\n",
       "860     adp news oct finnish consulting engineering co...\n",
       "Name: preprocess_text, Length: 3634, dtype: object"
      ]
     },
     "execution_count": 12,
     "metadata": {},
     "output_type": "execute_result"
    }
   ],
   "source": [
    "# Train Test Split\n",
    "X_train, X_test, y_train, y_test = train_test_split(\n",
    "    df['preprocess_text'], df['label'], test_size=0.25, random_state=42)\n",
    "\n",
    "print(\"Train: {}, Test: {}\".format((X_train.shape, y_train.shape), (X_test.shape, y_test.shape)))\n",
    "X_train"
   ]
  },
  {
   "cell_type": "code",
   "execution_count": 13,
   "metadata": {},
   "outputs": [],
   "source": [
    "# TF-IDF Vectorizer\n",
    "from sklearn.feature_extraction.text import TfidfVectorizer\n",
    "vectorizer = TfidfVectorizer()\n",
    "\n",
    "# Metrics\n",
    "from sklearn.metrics import classification_report\n",
    "\n",
    "tf_x_train = vectorizer.fit_transform(X_train)\n",
    "tf_x_test = vectorizer.transform(X_test)"
   ]
  },
  {
   "cell_type": "code",
   "execution_count": 14,
   "metadata": {},
   "outputs": [
    {
     "name": "stderr",
     "output_type": "stream",
     "text": [
      "c:\\Users\\fabian\\anaconda3\\Lib\\site-packages\\sklearn\\svm\\_classes.py:32: FutureWarning: The default value of `dual` will change from `True` to `'auto'` in 1.5. Set the value of `dual` explicitly to suppress the warning.\n",
      "  warnings.warn(\n"
     ]
    },
    {
     "data": {
      "text/plain": [
       "{'precision': 0.729014288096451,\n",
       " 'recall': 0.7351485148514851,\n",
       " 'f1-score': 0.7268776668497455,\n",
       " 'support': 1212.0}"
      ]
     },
     "execution_count": 14,
     "metadata": {},
     "output_type": "execute_result"
    }
   ],
   "source": [
    "# SVC\n",
    "from sklearn.svm import LinearSVC\n",
    "svm = LinearSVC(random_state=0)\n",
    "\n",
    "svm.fit(tf_x_train, y_train)\n",
    "y_test_pred = svm.predict(tf_x_test)\n",
    "\n",
    "report = classification_report(y_test, y_test_pred, output_dict=True)\n",
    "report['weighted avg']"
   ]
  },
  {
   "cell_type": "code",
   "execution_count": 15,
   "metadata": {},
   "outputs": [
    {
     "data": {
      "text/plain": [
       "{'precision': 0.7371480589917992,\n",
       " 'recall': 0.7326732673267327,\n",
       " 'f1-score': 0.7095368658592509,\n",
       " 'support': 1212.0}"
      ]
     },
     "execution_count": 15,
     "metadata": {},
     "output_type": "execute_result"
    }
   ],
   "source": [
    "# Logistic Regression\n",
    "from sklearn.linear_model import LogisticRegression\n",
    "lgr = LogisticRegression(max_iter=1000, solver='saga')\n",
    "\n",
    "lgr.fit(tf_x_train, y_train)\n",
    "y_test_pred = lgr.predict(tf_x_test)\n",
    "\n",
    "report = classification_report(y_test, y_test_pred, output_dict=True)\n",
    "report['weighted avg']"
   ]
  },
  {
   "cell_type": "code",
   "execution_count": 16,
   "metadata": {},
   "outputs": [
    {
     "data": {
      "text/plain": [
       "{'precision': 0.7352294650647331,\n",
       " 'recall': 0.721947194719472,\n",
       " 'f1-score': 0.6900290980608877,\n",
       " 'support': 1212.0}"
      ]
     },
     "execution_count": 16,
     "metadata": {},
     "output_type": "execute_result"
    }
   ],
   "source": [
    "# SVM\n",
    "from sklearn.svm import SVC\n",
    "\n",
    "svm = SVC()\n",
    "svm.fit(tf_x_train, y_train)\n",
    "y_test_pred = svm.predict(tf_x_test)\n",
    "\n",
    "report = classification_report(y_test, y_test_pred, output_dict=True)\n",
    "report['weighted avg']"
   ]
  },
  {
   "cell_type": "code",
   "execution_count": 17,
   "metadata": {},
   "outputs": [
    {
     "name": "stdout",
     "output_type": "stream",
     "text": [
      "Fitting 5 folds for each of 48 candidates, totalling 240 fits\n",
      "[CV] END .........................C=0.1, gamma=1, kernel=rbf; total time=   1.4s\n",
      "[CV] END .........................C=0.1, gamma=1, kernel=rbf; total time=   1.3s\n",
      "[CV] END .........................C=0.1, gamma=1, kernel=rbf; total time=   1.3s\n",
      "[CV] END .........................C=0.1, gamma=1, kernel=rbf; total time=   1.4s\n",
      "[CV] END .........................C=0.1, gamma=1, kernel=rbf; total time=   1.3s\n",
      "[CV] END ........................C=0.1, gamma=1, kernel=poly; total time=   1.3s\n",
      "[CV] END ........................C=0.1, gamma=1, kernel=poly; total time=   1.3s\n",
      "[CV] END ........................C=0.1, gamma=1, kernel=poly; total time=   1.3s\n",
      "[CV] END ........................C=0.1, gamma=1, kernel=poly; total time=   1.3s\n",
      "[CV] END ........................C=0.1, gamma=1, kernel=poly; total time=   1.4s\n",
      "[CV] END .....................C=0.1, gamma=1, kernel=sigmoid; total time=   0.9s\n",
      "[CV] END .....................C=0.1, gamma=1, kernel=sigmoid; total time=   0.9s\n",
      "[CV] END .....................C=0.1, gamma=1, kernel=sigmoid; total time=   0.9s\n",
      "[CV] END .....................C=0.1, gamma=1, kernel=sigmoid; total time=   0.9s\n",
      "[CV] END .....................C=0.1, gamma=1, kernel=sigmoid; total time=   0.9s\n",
      "[CV] END .......................C=0.1, gamma=0.1, kernel=rbf; total time=   1.0s\n",
      "[CV] END .......................C=0.1, gamma=0.1, kernel=rbf; total time=   1.0s\n",
      "[CV] END .......................C=0.1, gamma=0.1, kernel=rbf; total time=   1.0s\n",
      "[CV] END .......................C=0.1, gamma=0.1, kernel=rbf; total time=   1.0s\n",
      "[CV] END .......................C=0.1, gamma=0.1, kernel=rbf; total time=   1.1s\n",
      "[CV] END ......................C=0.1, gamma=0.1, kernel=poly; total time=   0.7s\n",
      "[CV] END ......................C=0.1, gamma=0.1, kernel=poly; total time=   0.7s\n",
      "[CV] END ......................C=0.1, gamma=0.1, kernel=poly; total time=   0.7s\n",
      "[CV] END ......................C=0.1, gamma=0.1, kernel=poly; total time=   0.7s\n",
      "[CV] END ......................C=0.1, gamma=0.1, kernel=poly; total time=   0.7s\n",
      "[CV] END ...................C=0.1, gamma=0.1, kernel=sigmoid; total time=   0.9s\n",
      "[CV] END ...................C=0.1, gamma=0.1, kernel=sigmoid; total time=   1.0s\n",
      "[CV] END ...................C=0.1, gamma=0.1, kernel=sigmoid; total time=   0.9s\n",
      "[CV] END ...................C=0.1, gamma=0.1, kernel=sigmoid; total time=   1.0s\n",
      "[CV] END ...................C=0.1, gamma=0.1, kernel=sigmoid; total time=   1.0s\n",
      "[CV] END ......................C=0.1, gamma=0.01, kernel=rbf; total time=   0.9s\n",
      "[CV] END ......................C=0.1, gamma=0.01, kernel=rbf; total time=   0.9s\n",
      "[CV] END ......................C=0.1, gamma=0.01, kernel=rbf; total time=   0.9s\n",
      "[CV] END ......................C=0.1, gamma=0.01, kernel=rbf; total time=   0.9s\n",
      "[CV] END ......................C=0.1, gamma=0.01, kernel=rbf; total time=   0.9s\n",
      "[CV] END .....................C=0.1, gamma=0.01, kernel=poly; total time=   0.7s\n",
      "[CV] END .....................C=0.1, gamma=0.01, kernel=poly; total time=   0.7s\n",
      "[CV] END .....................C=0.1, gamma=0.01, kernel=poly; total time=   0.7s\n",
      "[CV] END .....................C=0.1, gamma=0.01, kernel=poly; total time=   0.7s\n",
      "[CV] END .....................C=0.1, gamma=0.01, kernel=poly; total time=   0.7s\n",
      "[CV] END ..................C=0.1, gamma=0.01, kernel=sigmoid; total time=   0.8s\n",
      "[CV] END ..................C=0.1, gamma=0.01, kernel=sigmoid; total time=   0.8s\n",
      "[CV] END ..................C=0.1, gamma=0.01, kernel=sigmoid; total time=   0.8s\n",
      "[CV] END ..................C=0.1, gamma=0.01, kernel=sigmoid; total time=   0.7s\n",
      "[CV] END ..................C=0.1, gamma=0.01, kernel=sigmoid; total time=   0.7s\n",
      "[CV] END .....................C=0.1, gamma=0.001, kernel=rbf; total time=   0.7s\n",
      "[CV] END .....................C=0.1, gamma=0.001, kernel=rbf; total time=   0.7s\n",
      "[CV] END .....................C=0.1, gamma=0.001, kernel=rbf; total time=   0.7s\n",
      "[CV] END .....................C=0.1, gamma=0.001, kernel=rbf; total time=   0.7s\n",
      "[CV] END .....................C=0.1, gamma=0.001, kernel=rbf; total time=   0.7s\n",
      "[CV] END ....................C=0.1, gamma=0.001, kernel=poly; total time=   0.7s\n",
      "[CV] END ....................C=0.1, gamma=0.001, kernel=poly; total time=   0.7s\n",
      "[CV] END ....................C=0.1, gamma=0.001, kernel=poly; total time=   0.7s\n",
      "[CV] END ....................C=0.1, gamma=0.001, kernel=poly; total time=   0.7s\n",
      "[CV] END ....................C=0.1, gamma=0.001, kernel=poly; total time=   0.7s\n",
      "[CV] END .................C=0.1, gamma=0.001, kernel=sigmoid; total time=   0.7s\n",
      "[CV] END .................C=0.1, gamma=0.001, kernel=sigmoid; total time=   0.7s\n",
      "[CV] END .................C=0.1, gamma=0.001, kernel=sigmoid; total time=   0.7s\n",
      "[CV] END .................C=0.1, gamma=0.001, kernel=sigmoid; total time=   0.7s\n",
      "[CV] END .................C=0.1, gamma=0.001, kernel=sigmoid; total time=   0.7s\n",
      "[CV] END ...........................C=1, gamma=1, kernel=rbf; total time=   1.3s\n",
      "[CV] END ...........................C=1, gamma=1, kernel=rbf; total time=   1.4s\n",
      "[CV] END ...........................C=1, gamma=1, kernel=rbf; total time=   1.4s\n",
      "[CV] END ...........................C=1, gamma=1, kernel=rbf; total time=   1.4s\n",
      "[CV] END ...........................C=1, gamma=1, kernel=rbf; total time=   1.4s\n",
      "[CV] END ..........................C=1, gamma=1, kernel=poly; total time=   1.3s\n",
      "[CV] END ..........................C=1, gamma=1, kernel=poly; total time=   1.4s\n",
      "[CV] END ..........................C=1, gamma=1, kernel=poly; total time=   1.4s\n",
      "[CV] END ..........................C=1, gamma=1, kernel=poly; total time=   1.4s\n",
      "[CV] END ..........................C=1, gamma=1, kernel=poly; total time=   1.4s\n",
      "[CV] END .......................C=1, gamma=1, kernel=sigmoid; total time=   0.8s\n",
      "[CV] END .......................C=1, gamma=1, kernel=sigmoid; total time=   0.8s\n",
      "[CV] END .......................C=1, gamma=1, kernel=sigmoid; total time=   0.8s\n",
      "[CV] END .......................C=1, gamma=1, kernel=sigmoid; total time=   0.8s\n",
      "[CV] END .......................C=1, gamma=1, kernel=sigmoid; total time=   0.8s\n",
      "[CV] END .........................C=1, gamma=0.1, kernel=rbf; total time=   1.0s\n",
      "[CV] END .........................C=1, gamma=0.1, kernel=rbf; total time=   1.0s\n",
      "[CV] END .........................C=1, gamma=0.1, kernel=rbf; total time=   1.0s\n",
      "[CV] END .........................C=1, gamma=0.1, kernel=rbf; total time=   1.0s\n",
      "[CV] END .........................C=1, gamma=0.1, kernel=rbf; total time=   1.0s\n",
      "[CV] END ........................C=1, gamma=0.1, kernel=poly; total time=   0.7s\n",
      "[CV] END ........................C=1, gamma=0.1, kernel=poly; total time=   0.7s\n",
      "[CV] END ........................C=1, gamma=0.1, kernel=poly; total time=   0.7s\n",
      "[CV] END ........................C=1, gamma=0.1, kernel=poly; total time=   0.7s\n",
      "[CV] END ........................C=1, gamma=0.1, kernel=poly; total time=   0.7s\n",
      "[CV] END .....................C=1, gamma=0.1, kernel=sigmoid; total time=   0.9s\n",
      "[CV] END .....................C=1, gamma=0.1, kernel=sigmoid; total time=   0.9s\n",
      "[CV] END .....................C=1, gamma=0.1, kernel=sigmoid; total time=   0.9s\n",
      "[CV] END .....................C=1, gamma=0.1, kernel=sigmoid; total time=   1.0s\n",
      "[CV] END .....................C=1, gamma=0.1, kernel=sigmoid; total time=   0.9s\n",
      "[CV] END ........................C=1, gamma=0.01, kernel=rbf; total time=   1.0s\n",
      "[CV] END ........................C=1, gamma=0.01, kernel=rbf; total time=   1.0s\n",
      "[CV] END ........................C=1, gamma=0.01, kernel=rbf; total time=   1.0s\n",
      "[CV] END ........................C=1, gamma=0.01, kernel=rbf; total time=   1.0s\n",
      "[CV] END ........................C=1, gamma=0.01, kernel=rbf; total time=   1.0s\n",
      "[CV] END .......................C=1, gamma=0.01, kernel=poly; total time=   0.7s\n",
      "[CV] END .......................C=1, gamma=0.01, kernel=poly; total time=   0.7s\n",
      "[CV] END .......................C=1, gamma=0.01, kernel=poly; total time=   0.7s\n",
      "[CV] END .......................C=1, gamma=0.01, kernel=poly; total time=   0.7s\n",
      "[CV] END .......................C=1, gamma=0.01, kernel=poly; total time=   0.7s\n",
      "[CV] END ....................C=1, gamma=0.01, kernel=sigmoid; total time=   0.9s\n",
      "[CV] END ....................C=1, gamma=0.01, kernel=sigmoid; total time=   0.9s\n",
      "[CV] END ....................C=1, gamma=0.01, kernel=sigmoid; total time=   0.9s\n",
      "[CV] END ....................C=1, gamma=0.01, kernel=sigmoid; total time=   0.9s\n",
      "[CV] END ....................C=1, gamma=0.01, kernel=sigmoid; total time=   0.9s\n",
      "[CV] END .......................C=1, gamma=0.001, kernel=rbf; total time=   0.9s\n",
      "[CV] END .......................C=1, gamma=0.001, kernel=rbf; total time=   0.9s\n",
      "[CV] END .......................C=1, gamma=0.001, kernel=rbf; total time=   0.8s\n",
      "[CV] END .......................C=1, gamma=0.001, kernel=rbf; total time=   0.9s\n",
      "[CV] END .......................C=1, gamma=0.001, kernel=rbf; total time=   0.9s\n",
      "[CV] END ......................C=1, gamma=0.001, kernel=poly; total time=   0.7s\n",
      "[CV] END ......................C=1, gamma=0.001, kernel=poly; total time=   0.7s\n",
      "[CV] END ......................C=1, gamma=0.001, kernel=poly; total time=   0.7s\n",
      "[CV] END ......................C=1, gamma=0.001, kernel=poly; total time=   0.7s\n",
      "[CV] END ......................C=1, gamma=0.001, kernel=poly; total time=   0.7s\n",
      "[CV] END ...................C=1, gamma=0.001, kernel=sigmoid; total time=   0.8s\n",
      "[CV] END ...................C=1, gamma=0.001, kernel=sigmoid; total time=   0.8s\n",
      "[CV] END ...................C=1, gamma=0.001, kernel=sigmoid; total time=   0.8s\n",
      "[CV] END ...................C=1, gamma=0.001, kernel=sigmoid; total time=   0.8s\n",
      "[CV] END ...................C=1, gamma=0.001, kernel=sigmoid; total time=   0.8s\n",
      "[CV] END ..........................C=10, gamma=1, kernel=rbf; total time=   1.5s\n",
      "[CV] END ..........................C=10, gamma=1, kernel=rbf; total time=   1.4s\n",
      "[CV] END ..........................C=10, gamma=1, kernel=rbf; total time=   1.4s\n",
      "[CV] END ..........................C=10, gamma=1, kernel=rbf; total time=   1.5s\n",
      "[CV] END ..........................C=10, gamma=1, kernel=rbf; total time=   1.5s\n",
      "[CV] END .........................C=10, gamma=1, kernel=poly; total time=   1.4s\n",
      "[CV] END .........................C=10, gamma=1, kernel=poly; total time=   1.4s\n",
      "[CV] END .........................C=10, gamma=1, kernel=poly; total time=   1.4s\n",
      "[CV] END .........................C=10, gamma=1, kernel=poly; total time=   1.4s\n",
      "[CV] END .........................C=10, gamma=1, kernel=poly; total time=   1.4s\n",
      "[CV] END ......................C=10, gamma=1, kernel=sigmoid; total time=   0.7s\n",
      "[CV] END ......................C=10, gamma=1, kernel=sigmoid; total time=   0.7s\n",
      "[CV] END ......................C=10, gamma=1, kernel=sigmoid; total time=   1.0s\n",
      "[CV] END ......................C=10, gamma=1, kernel=sigmoid; total time=   0.8s\n",
      "[CV] END ......................C=10, gamma=1, kernel=sigmoid; total time=   0.9s\n",
      "[CV] END ........................C=10, gamma=0.1, kernel=rbf; total time=   1.1s\n",
      "[CV] END ........................C=10, gamma=0.1, kernel=rbf; total time=   1.1s\n",
      "[CV] END ........................C=10, gamma=0.1, kernel=rbf; total time=   1.1s\n",
      "[CV] END ........................C=10, gamma=0.1, kernel=rbf; total time=   1.1s\n",
      "[CV] END ........................C=10, gamma=0.1, kernel=rbf; total time=   1.1s\n",
      "[CV] END .......................C=10, gamma=0.1, kernel=poly; total time=   1.3s\n",
      "[CV] END .......................C=10, gamma=0.1, kernel=poly; total time=   1.3s\n",
      "[CV] END .......................C=10, gamma=0.1, kernel=poly; total time=   1.3s\n",
      "[CV] END .......................C=10, gamma=0.1, kernel=poly; total time=   1.3s\n",
      "[CV] END .......................C=10, gamma=0.1, kernel=poly; total time=   1.3s\n",
      "[CV] END ....................C=10, gamma=0.1, kernel=sigmoid; total time=   0.9s\n",
      "[CV] END ....................C=10, gamma=0.1, kernel=sigmoid; total time=   0.9s\n",
      "[CV] END ....................C=10, gamma=0.1, kernel=sigmoid; total time=   0.9s\n",
      "[CV] END ....................C=10, gamma=0.1, kernel=sigmoid; total time=   1.0s\n",
      "[CV] END ....................C=10, gamma=0.1, kernel=sigmoid; total time=   0.9s\n",
      "[CV] END .......................C=10, gamma=0.01, kernel=rbf; total time=   1.0s\n",
      "[CV] END .......................C=10, gamma=0.01, kernel=rbf; total time=   1.0s\n",
      "[CV] END .......................C=10, gamma=0.01, kernel=rbf; total time=   1.0s\n",
      "[CV] END .......................C=10, gamma=0.01, kernel=rbf; total time=   1.0s\n",
      "[CV] END .......................C=10, gamma=0.01, kernel=rbf; total time=   1.0s\n",
      "[CV] END ......................C=10, gamma=0.01, kernel=poly; total time=   0.7s\n",
      "[CV] END ......................C=10, gamma=0.01, kernel=poly; total time=   0.7s\n",
      "[CV] END ......................C=10, gamma=0.01, kernel=poly; total time=   0.7s\n",
      "[CV] END ......................C=10, gamma=0.01, kernel=poly; total time=   0.7s\n",
      "[CV] END ......................C=10, gamma=0.01, kernel=poly; total time=   0.7s\n",
      "[CV] END ...................C=10, gamma=0.01, kernel=sigmoid; total time=   0.9s\n",
      "[CV] END ...................C=10, gamma=0.01, kernel=sigmoid; total time=   0.9s\n",
      "[CV] END ...................C=10, gamma=0.01, kernel=sigmoid; total time=   0.9s\n",
      "[CV] END ...................C=10, gamma=0.01, kernel=sigmoid; total time=   0.9s\n",
      "[CV] END ...................C=10, gamma=0.01, kernel=sigmoid; total time=   0.9s\n",
      "[CV] END ......................C=10, gamma=0.001, kernel=rbf; total time=   1.0s\n",
      "[CV] END ......................C=10, gamma=0.001, kernel=rbf; total time=   1.0s\n",
      "[CV] END ......................C=10, gamma=0.001, kernel=rbf; total time=   0.9s\n",
      "[CV] END ......................C=10, gamma=0.001, kernel=rbf; total time=   1.0s\n",
      "[CV] END ......................C=10, gamma=0.001, kernel=rbf; total time=   1.0s\n",
      "[CV] END .....................C=10, gamma=0.001, kernel=poly; total time=   0.7s\n",
      "[CV] END .....................C=10, gamma=0.001, kernel=poly; total time=   0.7s\n",
      "[CV] END .....................C=10, gamma=0.001, kernel=poly; total time=   0.7s\n",
      "[CV] END .....................C=10, gamma=0.001, kernel=poly; total time=   0.7s\n",
      "[CV] END .....................C=10, gamma=0.001, kernel=poly; total time=   0.7s\n",
      "[CV] END ..................C=10, gamma=0.001, kernel=sigmoid; total time=   0.9s\n",
      "[CV] END ..................C=10, gamma=0.001, kernel=sigmoid; total time=   0.9s\n",
      "[CV] END ..................C=10, gamma=0.001, kernel=sigmoid; total time=   0.9s\n",
      "[CV] END ..................C=10, gamma=0.001, kernel=sigmoid; total time=   0.9s\n",
      "[CV] END ..................C=10, gamma=0.001, kernel=sigmoid; total time=   0.9s\n",
      "[CV] END .........................C=100, gamma=1, kernel=rbf; total time=   1.4s\n",
      "[CV] END .........................C=100, gamma=1, kernel=rbf; total time=   1.5s\n",
      "[CV] END .........................C=100, gamma=1, kernel=rbf; total time=   1.4s\n",
      "[CV] END .........................C=100, gamma=1, kernel=rbf; total time=   1.4s\n",
      "[CV] END .........................C=100, gamma=1, kernel=rbf; total time=   1.4s\n",
      "[CV] END ........................C=100, gamma=1, kernel=poly; total time=   1.4s\n",
      "[CV] END ........................C=100, gamma=1, kernel=poly; total time=   1.4s\n",
      "[CV] END ........................C=100, gamma=1, kernel=poly; total time=   1.4s\n",
      "[CV] END ........................C=100, gamma=1, kernel=poly; total time=   1.4s\n",
      "[CV] END ........................C=100, gamma=1, kernel=poly; total time=   1.4s\n",
      "[CV] END .....................C=100, gamma=1, kernel=sigmoid; total time=   0.6s\n",
      "[CV] END .....................C=100, gamma=1, kernel=sigmoid; total time=   0.7s\n",
      "[CV] END .....................C=100, gamma=1, kernel=sigmoid; total time=   0.5s\n",
      "[CV] END .....................C=100, gamma=1, kernel=sigmoid; total time=   0.6s\n",
      "[CV] END .....................C=100, gamma=1, kernel=sigmoid; total time=   0.8s\n",
      "[CV] END .......................C=100, gamma=0.1, kernel=rbf; total time=   1.1s\n",
      "[CV] END .......................C=100, gamma=0.1, kernel=rbf; total time=   1.1s\n",
      "[CV] END .......................C=100, gamma=0.1, kernel=rbf; total time=   1.1s\n",
      "[CV] END .......................C=100, gamma=0.1, kernel=rbf; total time=   1.1s\n",
      "[CV] END .......................C=100, gamma=0.1, kernel=rbf; total time=   1.1s\n",
      "[CV] END ......................C=100, gamma=0.1, kernel=poly; total time=   1.4s\n",
      "[CV] END ......................C=100, gamma=0.1, kernel=poly; total time=   1.2s\n",
      "[CV] END ......................C=100, gamma=0.1, kernel=poly; total time=   1.3s\n",
      "[CV] END ......................C=100, gamma=0.1, kernel=poly; total time=   1.3s\n",
      "[CV] END ......................C=100, gamma=0.1, kernel=poly; total time=   1.3s\n",
      "[CV] END ...................C=100, gamma=0.1, kernel=sigmoid; total time=   1.1s\n",
      "[CV] END ...................C=100, gamma=0.1, kernel=sigmoid; total time=   1.0s\n",
      "[CV] END ...................C=100, gamma=0.1, kernel=sigmoid; total time=   1.1s\n",
      "[CV] END ...................C=100, gamma=0.1, kernel=sigmoid; total time=   1.0s\n",
      "[CV] END ...................C=100, gamma=0.1, kernel=sigmoid; total time=   1.2s\n",
      "[CV] END ......................C=100, gamma=0.01, kernel=rbf; total time=   1.0s\n",
      "[CV] END ......................C=100, gamma=0.01, kernel=rbf; total time=   1.1s\n",
      "[CV] END ......................C=100, gamma=0.01, kernel=rbf; total time=   1.0s\n",
      "[CV] END ......................C=100, gamma=0.01, kernel=rbf; total time=   1.0s\n",
      "[CV] END ......................C=100, gamma=0.01, kernel=rbf; total time=   1.0s\n",
      "[CV] END .....................C=100, gamma=0.01, kernel=poly; total time=   0.7s\n",
      "[CV] END .....................C=100, gamma=0.01, kernel=poly; total time=   0.7s\n",
      "[CV] END .....................C=100, gamma=0.01, kernel=poly; total time=   0.7s\n",
      "[CV] END .....................C=100, gamma=0.01, kernel=poly; total time=   0.7s\n",
      "[CV] END .....................C=100, gamma=0.01, kernel=poly; total time=   0.7s\n",
      "[CV] END ..................C=100, gamma=0.01, kernel=sigmoid; total time=   0.9s\n",
      "[CV] END ..................C=100, gamma=0.01, kernel=sigmoid; total time=   1.0s\n",
      "[CV] END ..................C=100, gamma=0.01, kernel=sigmoid; total time=   0.9s\n",
      "[CV] END ..................C=100, gamma=0.01, kernel=sigmoid; total time=   0.9s\n",
      "[CV] END ..................C=100, gamma=0.01, kernel=sigmoid; total time=   0.9s\n",
      "[CV] END .....................C=100, gamma=0.001, kernel=rbf; total time=   1.0s\n",
      "[CV] END .....................C=100, gamma=0.001, kernel=rbf; total time=   1.0s\n",
      "[CV] END .....................C=100, gamma=0.001, kernel=rbf; total time=   1.0s\n",
      "[CV] END .....................C=100, gamma=0.001, kernel=rbf; total time=   1.0s\n",
      "[CV] END .....................C=100, gamma=0.001, kernel=rbf; total time=   1.0s\n",
      "[CV] END ....................C=100, gamma=0.001, kernel=poly; total time=   0.7s\n",
      "[CV] END ....................C=100, gamma=0.001, kernel=poly; total time=   0.7s\n",
      "[CV] END ....................C=100, gamma=0.001, kernel=poly; total time=   0.7s\n",
      "[CV] END ....................C=100, gamma=0.001, kernel=poly; total time=   0.7s\n",
      "[CV] END ....................C=100, gamma=0.001, kernel=poly; total time=   0.7s\n",
      "[CV] END .................C=100, gamma=0.001, kernel=sigmoid; total time=   0.9s\n",
      "[CV] END .................C=100, gamma=0.001, kernel=sigmoid; total time=   0.9s\n",
      "[CV] END .................C=100, gamma=0.001, kernel=sigmoid; total time=   0.9s\n",
      "[CV] END .................C=100, gamma=0.001, kernel=sigmoid; total time=   0.9s\n",
      "[CV] END .................C=100, gamma=0.001, kernel=sigmoid; total time=   0.9s\n"
     ]
    },
    {
     "data": {
      "text/html": [
       "<style>#sk-container-id-1 {color: black;}#sk-container-id-1 pre{padding: 0;}#sk-container-id-1 div.sk-toggleable {background-color: white;}#sk-container-id-1 label.sk-toggleable__label {cursor: pointer;display: block;width: 100%;margin-bottom: 0;padding: 0.3em;box-sizing: border-box;text-align: center;}#sk-container-id-1 label.sk-toggleable__label-arrow:before {content: \"▸\";float: left;margin-right: 0.25em;color: #696969;}#sk-container-id-1 label.sk-toggleable__label-arrow:hover:before {color: black;}#sk-container-id-1 div.sk-estimator:hover label.sk-toggleable__label-arrow:before {color: black;}#sk-container-id-1 div.sk-toggleable__content {max-height: 0;max-width: 0;overflow: hidden;text-align: left;background-color: #f0f8ff;}#sk-container-id-1 div.sk-toggleable__content pre {margin: 0.2em;color: black;border-radius: 0.25em;background-color: #f0f8ff;}#sk-container-id-1 input.sk-toggleable__control:checked~div.sk-toggleable__content {max-height: 200px;max-width: 100%;overflow: auto;}#sk-container-id-1 input.sk-toggleable__control:checked~label.sk-toggleable__label-arrow:before {content: \"▾\";}#sk-container-id-1 div.sk-estimator input.sk-toggleable__control:checked~label.sk-toggleable__label {background-color: #d4ebff;}#sk-container-id-1 div.sk-label input.sk-toggleable__control:checked~label.sk-toggleable__label {background-color: #d4ebff;}#sk-container-id-1 input.sk-hidden--visually {border: 0;clip: rect(1px 1px 1px 1px);clip: rect(1px, 1px, 1px, 1px);height: 1px;margin: -1px;overflow: hidden;padding: 0;position: absolute;width: 1px;}#sk-container-id-1 div.sk-estimator {font-family: monospace;background-color: #f0f8ff;border: 1px dotted black;border-radius: 0.25em;box-sizing: border-box;margin-bottom: 0.5em;}#sk-container-id-1 div.sk-estimator:hover {background-color: #d4ebff;}#sk-container-id-1 div.sk-parallel-item::after {content: \"\";width: 100%;border-bottom: 1px solid gray;flex-grow: 1;}#sk-container-id-1 div.sk-label:hover label.sk-toggleable__label {background-color: #d4ebff;}#sk-container-id-1 div.sk-serial::before {content: \"\";position: absolute;border-left: 1px solid gray;box-sizing: border-box;top: 0;bottom: 0;left: 50%;z-index: 0;}#sk-container-id-1 div.sk-serial {display: flex;flex-direction: column;align-items: center;background-color: white;padding-right: 0.2em;padding-left: 0.2em;position: relative;}#sk-container-id-1 div.sk-item {position: relative;z-index: 1;}#sk-container-id-1 div.sk-parallel {display: flex;align-items: stretch;justify-content: center;background-color: white;position: relative;}#sk-container-id-1 div.sk-item::before, #sk-container-id-1 div.sk-parallel-item::before {content: \"\";position: absolute;border-left: 1px solid gray;box-sizing: border-box;top: 0;bottom: 0;left: 50%;z-index: -1;}#sk-container-id-1 div.sk-parallel-item {display: flex;flex-direction: column;z-index: 1;position: relative;background-color: white;}#sk-container-id-1 div.sk-parallel-item:first-child::after {align-self: flex-end;width: 50%;}#sk-container-id-1 div.sk-parallel-item:last-child::after {align-self: flex-start;width: 50%;}#sk-container-id-1 div.sk-parallel-item:only-child::after {width: 0;}#sk-container-id-1 div.sk-dashed-wrapped {border: 1px dashed gray;margin: 0 0.4em 0.5em 0.4em;box-sizing: border-box;padding-bottom: 0.4em;background-color: white;}#sk-container-id-1 div.sk-label label {font-family: monospace;font-weight: bold;display: inline-block;line-height: 1.2em;}#sk-container-id-1 div.sk-label-container {text-align: center;}#sk-container-id-1 div.sk-container {/* jupyter's `normalize.less` sets `[hidden] { display: none; }` but bootstrap.min.css set `[hidden] { display: none !important; }` so we also need the `!important` here to be able to override the default hidden behavior on the sphinx rendered scikit-learn.org. See: https://github.com/scikit-learn/scikit-learn/issues/21755 */display: inline-block !important;position: relative;}#sk-container-id-1 div.sk-text-repr-fallback {display: none;}</style><div id=\"sk-container-id-1\" class=\"sk-top-container\"><div class=\"sk-text-repr-fallback\"><pre>GridSearchCV(error_score=&#x27;raise&#x27;, estimator=SVC(),\n",
       "             param_grid={&#x27;C&#x27;: [0.1, 1, 10, 100], &#x27;gamma&#x27;: [1, 0.1, 0.01, 0.001],\n",
       "                         &#x27;kernel&#x27;: [&#x27;rbf&#x27;, &#x27;poly&#x27;, &#x27;sigmoid&#x27;]},\n",
       "             verbose=2)</pre><b>In a Jupyter environment, please rerun this cell to show the HTML representation or trust the notebook. <br />On GitHub, the HTML representation is unable to render, please try loading this page with nbviewer.org.</b></div><div class=\"sk-container\" hidden><div class=\"sk-item sk-dashed-wrapped\"><div class=\"sk-label-container\"><div class=\"sk-label sk-toggleable\"><input class=\"sk-toggleable__control sk-hidden--visually\" id=\"sk-estimator-id-1\" type=\"checkbox\" ><label for=\"sk-estimator-id-1\" class=\"sk-toggleable__label sk-toggleable__label-arrow\">GridSearchCV</label><div class=\"sk-toggleable__content\"><pre>GridSearchCV(error_score=&#x27;raise&#x27;, estimator=SVC(),\n",
       "             param_grid={&#x27;C&#x27;: [0.1, 1, 10, 100], &#x27;gamma&#x27;: [1, 0.1, 0.01, 0.001],\n",
       "                         &#x27;kernel&#x27;: [&#x27;rbf&#x27;, &#x27;poly&#x27;, &#x27;sigmoid&#x27;]},\n",
       "             verbose=2)</pre></div></div></div><div class=\"sk-parallel\"><div class=\"sk-parallel-item\"><div class=\"sk-item\"><div class=\"sk-label-container\"><div class=\"sk-label sk-toggleable\"><input class=\"sk-toggleable__control sk-hidden--visually\" id=\"sk-estimator-id-2\" type=\"checkbox\" ><label for=\"sk-estimator-id-2\" class=\"sk-toggleable__label sk-toggleable__label-arrow\">estimator: SVC</label><div class=\"sk-toggleable__content\"><pre>SVC()</pre></div></div></div><div class=\"sk-serial\"><div class=\"sk-item\"><div class=\"sk-estimator sk-toggleable\"><input class=\"sk-toggleable__control sk-hidden--visually\" id=\"sk-estimator-id-3\" type=\"checkbox\" ><label for=\"sk-estimator-id-3\" class=\"sk-toggleable__label sk-toggleable__label-arrow\">SVC</label><div class=\"sk-toggleable__content\"><pre>SVC()</pre></div></div></div></div></div></div></div></div></div></div>"
      ],
      "text/plain": [
       "GridSearchCV(error_score='raise', estimator=SVC(),\n",
       "             param_grid={'C': [0.1, 1, 10, 100], 'gamma': [1, 0.1, 0.01, 0.001],\n",
       "                         'kernel': ['rbf', 'poly', 'sigmoid']},\n",
       "             verbose=2)"
      ]
     },
     "execution_count": 17,
     "metadata": {},
     "output_type": "execute_result"
    }
   ],
   "source": [
    "# Optimizing hyperparameters using GridSearchCV\n",
    "from sklearn.model_selection import GridSearchCV\n",
    "\n",
    "\n",
    "param_grid = {\"C\": [0.1, 1, 10, 100], \"gamma\": [1, 0.1, 0.01, 0.001]\n",
    "              , \"kernel\": ['rbf', 'poly', 'sigmoid']}\n",
    "\n",
    "grid = GridSearchCV(SVC(), param_grid, refit=True, verbose=2, error_score='raise')\n",
    "grid.fit(tf_x_train, y_train)"
   ]
  },
  {
   "cell_type": "code",
   "execution_count": 18,
   "metadata": {},
   "outputs": [
    {
     "name": "stdout",
     "output_type": "stream",
     "text": [
      "Best parameters are {'C': 10, 'gamma': 0.1, 'kernel': 'rbf'}\n",
      "Best accuracy score 0.7377520358013043\n",
      "              precision    recall  f1-score   support\n",
      "\n",
      "           0       0.69      0.57      0.62       143\n",
      "           1       0.77      0.86      0.81       713\n",
      "           2       0.68      0.58      0.62       356\n",
      "\n",
      "    accuracy                           0.74      1212\n",
      "   macro avg       0.72      0.67      0.69      1212\n",
      "weighted avg       0.74      0.74      0.74      1212\n",
      "\n"
     ]
    }
   ],
   "source": [
    "grid_predictions = grid.predict(tf_x_test)\n",
    "\n",
    "print(\"Best parameters are {}\".format(grid.best_params_))\n",
    "print(\"Best accuracy score {}\".format(grid.best_score_))\n",
    "print(classification_report(y_test, grid_predictions))"
   ]
  },
  {
   "cell_type": "markdown",
   "metadata": {},
   "source": [
    "## Method 4 Using Neural Networks"
   ]
  },
  {
   "cell_type": "code",
   "execution_count": 23,
   "metadata": {},
   "outputs": [
    {
     "ename": "NameError",
     "evalue": "name '_C' is not defined",
     "output_type": "error",
     "traceback": [
      "\u001b[1;31m---------------------------------------------------------------------------\u001b[0m",
      "\u001b[1;31mNameError\u001b[0m                                 Traceback (most recent call last)",
      "\u001b[1;32mc:\\Users\\fabian\\Documents\\VSCode\\NLP\\Sentiment_Analysis\\sentiment_analysis.ipynb Cell 23\u001b[0m line \u001b[0;36m1\n\u001b[1;32m----> <a href='vscode-notebook-cell:/c%3A/Users/fabian/Documents/VSCode/NLP/Sentiment_Analysis/sentiment_analysis.ipynb#X31sZmlsZQ%3D%3D?line=0'>1</a>\u001b[0m \u001b[39mfrom\u001b[39;00m \u001b[39mtransformers\u001b[39;00m \u001b[39mimport\u001b[39;00m BertModel, BertTokenizer\n\u001b[0;32m      <a href='vscode-notebook-cell:/c%3A/Users/fabian/Documents/VSCode/NLP/Sentiment_Analysis/sentiment_analysis.ipynb#X31sZmlsZQ%3D%3D?line=1'>2</a>\u001b[0m \u001b[39mimport\u001b[39;00m \u001b[39mtorch\u001b[39;00m\n\u001b[0;32m      <a href='vscode-notebook-cell:/c%3A/Users/fabian/Documents/VSCode/NLP/Sentiment_Analysis/sentiment_analysis.ipynb#X31sZmlsZQ%3D%3D?line=2'>3</a>\u001b[0m \u001b[39mfrom\u001b[39;00m \u001b[39mtorch\u001b[39;00m \u001b[39mimport\u001b[39;00m nn, optim\n",
      "File \u001b[1;32mc:\\Users\\fabian\\anaconda3\\Lib\\site-packages\\transformers\\__init__.py:26\u001b[0m\n\u001b[0;32m     23\u001b[0m \u001b[39mfrom\u001b[39;00m \u001b[39mtyping\u001b[39;00m \u001b[39mimport\u001b[39;00m TYPE_CHECKING\n\u001b[0;32m     25\u001b[0m \u001b[39m# Check the dependencies satisfy the minimal versions required.\u001b[39;00m\n\u001b[1;32m---> 26\u001b[0m \u001b[39mfrom\u001b[39;00m \u001b[39m.\u001b[39;00m \u001b[39mimport\u001b[39;00m dependency_versions_check\n\u001b[0;32m     27\u001b[0m \u001b[39mfrom\u001b[39;00m \u001b[39m.\u001b[39;00m\u001b[39mutils\u001b[39;00m \u001b[39mimport\u001b[39;00m (\n\u001b[0;32m     28\u001b[0m     OptionalDependencyNotAvailable,\n\u001b[0;32m     29\u001b[0m     _LazyModule,\n\u001b[1;32m   (...)\u001b[0m\n\u001b[0;32m     46\u001b[0m     logging,\n\u001b[0;32m     47\u001b[0m )\n\u001b[0;32m     50\u001b[0m logger \u001b[39m=\u001b[39m logging\u001b[39m.\u001b[39mget_logger(\u001b[39m__name__\u001b[39m)  \u001b[39m# pylint: disable=invalid-name\u001b[39;00m\n",
      "File \u001b[1;32mc:\\Users\\fabian\\anaconda3\\Lib\\site-packages\\transformers\\dependency_versions_check.py:16\u001b[0m\n\u001b[0;32m      1\u001b[0m \u001b[39m# Copyright 2020 The HuggingFace Team. All rights reserved.\u001b[39;00m\n\u001b[0;32m      2\u001b[0m \u001b[39m#\u001b[39;00m\n\u001b[0;32m      3\u001b[0m \u001b[39m# Licensed under the Apache License, Version 2.0 (the \"License\");\u001b[39;00m\n\u001b[1;32m   (...)\u001b[0m\n\u001b[0;32m     12\u001b[0m \u001b[39m# See the License for the specific language governing permissions and\u001b[39;00m\n\u001b[0;32m     13\u001b[0m \u001b[39m# limitations under the License.\u001b[39;00m\n\u001b[0;32m     15\u001b[0m \u001b[39mfrom\u001b[39;00m \u001b[39m.\u001b[39;00m\u001b[39mdependency_versions_table\u001b[39;00m \u001b[39mimport\u001b[39;00m deps\n\u001b[1;32m---> 16\u001b[0m \u001b[39mfrom\u001b[39;00m \u001b[39m.\u001b[39;00m\u001b[39mutils\u001b[39;00m\u001b[39m.\u001b[39;00m\u001b[39mversions\u001b[39;00m \u001b[39mimport\u001b[39;00m require_version, require_version_core\n\u001b[0;32m     19\u001b[0m \u001b[39m# define which module versions we always want to check at run time\u001b[39;00m\n\u001b[0;32m     20\u001b[0m \u001b[39m# (usually the ones defined in `install_requires` in setup.py)\u001b[39;00m\n\u001b[0;32m     21\u001b[0m \u001b[39m#\u001b[39;00m\n\u001b[0;32m     22\u001b[0m \u001b[39m# order specific notes:\u001b[39;00m\n\u001b[0;32m     23\u001b[0m \u001b[39m# - tqdm must be checked before tokenizers\u001b[39;00m\n\u001b[0;32m     25\u001b[0m pkgs_to_check_at_runtime \u001b[39m=\u001b[39m [\n\u001b[0;32m     26\u001b[0m     \u001b[39m\"\u001b[39m\u001b[39mpython\u001b[39m\u001b[39m\"\u001b[39m,\n\u001b[0;32m     27\u001b[0m     \u001b[39m\"\u001b[39m\u001b[39mtqdm\u001b[39m\u001b[39m\"\u001b[39m,\n\u001b[1;32m   (...)\u001b[0m\n\u001b[0;32m     37\u001b[0m     \u001b[39m\"\u001b[39m\u001b[39mpyyaml\u001b[39m\u001b[39m\"\u001b[39m,\n\u001b[0;32m     38\u001b[0m ]\n",
      "File \u001b[1;32mc:\\Users\\fabian\\anaconda3\\Lib\\site-packages\\transformers\\utils\\__init__.py:31\u001b[0m\n\u001b[0;32m     22\u001b[0m \u001b[39mfrom\u001b[39;00m \u001b[39m.\u001b[39;00m\u001b[39mconstants\u001b[39;00m \u001b[39mimport\u001b[39;00m IMAGENET_DEFAULT_MEAN, IMAGENET_DEFAULT_STD, IMAGENET_STANDARD_MEAN, IMAGENET_STANDARD_STD\n\u001b[0;32m     23\u001b[0m \u001b[39mfrom\u001b[39;00m \u001b[39m.\u001b[39;00m\u001b[39mdoc\u001b[39;00m \u001b[39mimport\u001b[39;00m (\n\u001b[0;32m     24\u001b[0m     add_code_sample_docstrings,\n\u001b[0;32m     25\u001b[0m     add_end_docstrings,\n\u001b[1;32m   (...)\u001b[0m\n\u001b[0;32m     29\u001b[0m     replace_return_docstrings,\n\u001b[0;32m     30\u001b[0m )\n\u001b[1;32m---> 31\u001b[0m \u001b[39mfrom\u001b[39;00m \u001b[39m.\u001b[39;00m\u001b[39mgeneric\u001b[39;00m \u001b[39mimport\u001b[39;00m (\n\u001b[0;32m     32\u001b[0m     ContextManagers,\n\u001b[0;32m     33\u001b[0m     ExplicitEnum,\n\u001b[0;32m     34\u001b[0m     ModelOutput,\n\u001b[0;32m     35\u001b[0m     PaddingStrategy,\n\u001b[0;32m     36\u001b[0m     TensorType,\n\u001b[0;32m     37\u001b[0m     add_model_info_to_auto_map,\n\u001b[0;32m     38\u001b[0m     cached_property,\n\u001b[0;32m     39\u001b[0m     can_return_loss,\n\u001b[0;32m     40\u001b[0m     expand_dims,\n\u001b[0;32m     41\u001b[0m     find_labels,\n\u001b[0;32m     42\u001b[0m     flatten_dict,\n\u001b[0;32m     43\u001b[0m     infer_framework,\n\u001b[0;32m     44\u001b[0m     is_jax_tensor,\n\u001b[0;32m     45\u001b[0m     is_numpy_array,\n\u001b[0;32m     46\u001b[0m     is_tensor,\n\u001b[0;32m     47\u001b[0m     is_tf_symbolic_tensor,\n\u001b[0;32m     48\u001b[0m     is_tf_tensor,\n\u001b[0;32m     49\u001b[0m     is_torch_device,\n\u001b[0;32m     50\u001b[0m     is_torch_dtype,\n\u001b[0;32m     51\u001b[0m     is_torch_tensor,\n\u001b[0;32m     52\u001b[0m     reshape,\n\u001b[0;32m     53\u001b[0m     squeeze,\n\u001b[0;32m     54\u001b[0m     strtobool,\n\u001b[0;32m     55\u001b[0m     tensor_size,\n\u001b[0;32m     56\u001b[0m     to_numpy,\n\u001b[0;32m     57\u001b[0m     to_py_obj,\n\u001b[0;32m     58\u001b[0m     transpose,\n\u001b[0;32m     59\u001b[0m     working_or_temp_dir,\n\u001b[0;32m     60\u001b[0m )\n\u001b[0;32m     61\u001b[0m \u001b[39mfrom\u001b[39;00m \u001b[39m.\u001b[39;00m\u001b[39mhub\u001b[39;00m \u001b[39mimport\u001b[39;00m (\n\u001b[0;32m     62\u001b[0m     CLOUDFRONT_DISTRIB_PREFIX,\n\u001b[0;32m     63\u001b[0m     DISABLE_TELEMETRY,\n\u001b[1;32m   (...)\u001b[0m\n\u001b[0;32m     90\u001b[0m     try_to_load_from_cache,\n\u001b[0;32m     91\u001b[0m )\n\u001b[0;32m     92\u001b[0m \u001b[39mfrom\u001b[39;00m \u001b[39m.\u001b[39;00m\u001b[39mimport_utils\u001b[39;00m \u001b[39mimport\u001b[39;00m (\n\u001b[0;32m     93\u001b[0m     ENV_VARS_TRUE_AND_AUTO_VALUES,\n\u001b[0;32m     94\u001b[0m     ENV_VARS_TRUE_VALUES,\n\u001b[1;32m   (...)\u001b[0m\n\u001b[0;32m    194\u001b[0m     torch_required,\n\u001b[0;32m    195\u001b[0m )\n",
      "File \u001b[1;32mc:\\Users\\fabian\\anaconda3\\Lib\\site-packages\\transformers\\utils\\generic.py:432\u001b[0m\n\u001b[0;32m    428\u001b[0m         \u001b[39mreturn\u001b[39;00m \u001b[39mtuple\u001b[39m(\u001b[39mself\u001b[39m[k] \u001b[39mfor\u001b[39;00m k \u001b[39min\u001b[39;00m \u001b[39mself\u001b[39m\u001b[39m.\u001b[39mkeys())\n\u001b[0;32m    431\u001b[0m \u001b[39mif\u001b[39;00m is_torch_available():\n\u001b[1;32m--> 432\u001b[0m     \u001b[39mimport\u001b[39;00m \u001b[39mtorch\u001b[39;00m\u001b[39m.\u001b[39;00m\u001b[39mutils\u001b[39;00m\u001b[39m.\u001b[39;00m\u001b[39m_pytree\u001b[39;00m \u001b[39mas\u001b[39;00m \u001b[39m_torch_pytree\u001b[39;00m\n\u001b[0;32m    434\u001b[0m     \u001b[39mdef\u001b[39;00m \u001b[39m_model_output_flatten\u001b[39m(output: ModelOutput) \u001b[39m-\u001b[39m\u001b[39m>\u001b[39m Tuple[List[Any], \u001b[39m\"\u001b[39m\u001b[39m_torch_pytree.Context\u001b[39m\u001b[39m\"\u001b[39m]:\n\u001b[0;32m    435\u001b[0m         \u001b[39mreturn\u001b[39;00m \u001b[39mlist\u001b[39m(output\u001b[39m.\u001b[39mvalues()), (\u001b[39mtype\u001b[39m(output), \u001b[39mlist\u001b[39m(output\u001b[39m.\u001b[39mkeys()))\n",
      "File \u001b[1;32mc:\\Users\\fabian\\anaconda3\\Lib\\site-packages\\torch\\__init__.py:465\u001b[0m\n\u001b[0;32m    451\u001b[0m         \u001b[39mraise\u001b[39;00m \u001b[39mImportError\u001b[39;00m(textwrap\u001b[39m.\u001b[39mdedent(\u001b[39m'''\u001b[39m\n\u001b[0;32m    452\u001b[0m \u001b[39m            Failed to load PyTorch C extensions:\u001b[39m\n\u001b[0;32m    453\u001b[0m \u001b[39m                It appears that PyTorch has loaded the `torch/_C` folder\u001b[39m\n\u001b[1;32m   (...)\u001b[0m\n\u001b[0;32m    461\u001b[0m \u001b[39m                or by running Python from a different directory.\u001b[39m\n\u001b[0;32m    462\u001b[0m \u001b[39m            \u001b[39m\u001b[39m'''\u001b[39m)\u001b[39m.\u001b[39mstrip()) \u001b[39mfrom\u001b[39;00m \u001b[39mNone\u001b[39;00m\n\u001b[0;32m    463\u001b[0m     \u001b[39mraise\u001b[39;00m  \u001b[39m# If __file__ is not None the cause is unknown, so just re-raise.\u001b[39;00m\n\u001b[1;32m--> 465\u001b[0m \u001b[39mfor\u001b[39;00m name \u001b[39min\u001b[39;00m \u001b[39mdir\u001b[39m(_C):\n\u001b[0;32m    466\u001b[0m     \u001b[39mif\u001b[39;00m name[\u001b[39m0\u001b[39m] \u001b[39m!=\u001b[39m \u001b[39m'\u001b[39m\u001b[39m_\u001b[39m\u001b[39m'\u001b[39m \u001b[39mand\u001b[39;00m \u001b[39mnot\u001b[39;00m name\u001b[39m.\u001b[39mendswith(\u001b[39m'\u001b[39m\u001b[39mBase\u001b[39m\u001b[39m'\u001b[39m):\n\u001b[0;32m    467\u001b[0m         __all__\u001b[39m.\u001b[39mappend(name)\n",
      "\u001b[1;31mNameError\u001b[0m: name '_C' is not defined"
     ]
    }
   ],
   "source": [
    "import transformers\n",
    "from transformers import BertModel, BertTokenizer\n",
    "import torch\n",
    "from torch import nn, optim\n",
    "from torch.utils.data import Dataset, DataLoader\n",
    "\n",
    "device = torch.device(\"cuda\" if torch.cuda.is_available() else \"cpu\")"
   ]
  },
  {
   "cell_type": "code",
   "execution_count": null,
   "metadata": {},
   "outputs": [],
   "source": [
    "# Model\n",
    "MODEL_NAME = 'bert-base-cased'\n",
    "\n",
    "# Tokenizer\n",
    "tokenizer = BertTokenizer.from_pretrained(MODEL_NAME)"
   ]
  },
  {
   "cell_type": "code",
   "execution_count": null,
   "metadata": {},
   "outputs": [
    {
     "name": "stderr",
     "output_type": "stream",
     "text": [
      "Truncation was not explicitly activated but `max_length` is provided a specific value, please use `truncation=True` to explicitly truncate examples to max length. Defaulting to 'longest_first' truncation strategy. If you encode pairs of sequences (GLUE-style) with the tokenizer you can select this strategy more precisely by providing a specific strategy to `truncation`.\n",
      "C:\\Users\\fabian\\AppData\\Local\\Temp\\ipykernel_13432\\3043336594.py:8: UserWarning: \n",
      "\n",
      "`distplot` is a deprecated function and will be removed in seaborn v0.14.0.\n",
      "\n",
      "Please adapt your code to use either `displot` (a figure-level function with\n",
      "similar flexibility) or `histplot` (an axes-level function for histograms).\n",
      "\n",
      "For a guide to updating your code to use the new functions, please see\n",
      "https://gist.github.com/mwaskom/de44147ed2974457ad6372750bbe5751\n",
      "\n",
      "  sns.distplot(token_lens)\n"
     ]
    },
    {
     "data": {
      "text/plain": [
       "Text(0.5, 0, 'Token count')"
      ]
     },
     "execution_count": 31,
     "metadata": {},
     "output_type": "execute_result"
    },
    {
     "data": {
      "image/png": "[encoded data removed]",
      "text/plain": [
       "<Figure size 640x480 with 1 Axes>"
      ]
     },
     "metadata": {},
     "output_type": "display_data"
    }
   ],
   "source": [
    "token_lens = []\n",
    "\n",
    "# Set max length to 512\n",
    "for review in df.preprocess_text:\n",
    "    tokens = tokenizer.encode(review, max_length=512)\n",
    "    token_lens.append(len(tokens))\n",
    "\n",
    "sns.distplot(token_lens)\n",
    "plt.xlim([0, 256])\n",
    "plt.xlabel('Token count')"
   ]
  },
  {
   "cell_type": "code",
   "execution_count": null,
   "metadata": {},
   "outputs": [],
   "source": [
    "# Turns out we only need 80-ish tokens to work with\n",
    "MAX_LEN = 80\n",
    "\n",
    "# Preparing Torch Dataset\n",
    "class ReviewDataset(Dataset):\n",
    "\n",
    "    def __init__ (self, texts, targets, tokenizer, max_len):\n",
    "        self.texts = texts\n",
    "        self.targets = targets\n",
    "        self.tokenizer = tokenizer\n",
    "        self.max_len = max_len\n",
    "    \n",
    "\n",
    "    def __len__(self):\n",
    "        return len(self.texts)\n",
    "    \n",
    "    def __getitem__(self, item):\n",
    "        text = str(self.texts[item])\n",
    "        target = self.targets[item]\n",
    "\n",
    "        encoding = self.tokenizer.encode_plus(\n",
    "            review,\n",
    "            add_special_tokens=True,\n",
    "            max_length=self.max_len,\n",
    "            return_token_type_ids=False,\n",
    "            pad_to_max_length=True,\n",
    "            return_attention_mask=True,\n",
    "            return_tensors='pt'\n",
    "        )\n",
    "\n",
    "        return {\n",
    "            'news_text': text,\n",
    "            'input_ids': encoding['input_ids'].flatten(),\n",
    "            'attention_mask': encoding['attention_mask'].flatten(),\n",
    "            'targets': torch.tensor(target, dtype=torch.long)\n",
    "        }"
   ]
  },
  {
   "cell_type": "code",
   "execution_count": null,
   "metadata": {},
   "outputs": [],
   "source": [
    "# dataloader\n",
    "\n",
    "def create_data_loader(text, target, tokenizer, max_len, batch_size):\n",
    "    ds = ReviewDataset(\n",
    "        texts=text.to_numpy(),\n",
    "        targets=target.to_numpy(),\n",
    "        tokenizer=tokenizer,\n",
    "        max_len=max_len\n",
    "    )\n",
    "\n",
    "    return DataLoader(\n",
    "        ds,\n",
    "        batch_size=batch_size,\n",
    "        num_workers=0\n",
    "    )"
   ]
  },
  {
   "cell_type": "code",
   "execution_count": null,
   "metadata": {},
   "outputs": [
    {
     "name": "stdout",
     "output_type": "stream",
     "text": [
      "dict_keys(['news_text', 'input_ids', 'attention_mask', 'targets'])\n",
      "torch.Size([16, 80])\n",
      "torch.Size([16, 80])\n",
      "torch.Size([16])\n"
     ]
    },
    {
     "name": "stderr",
     "output_type": "stream",
     "text": [
      "c:\\Users\\fabian\\anaconda3\\Lib\\site-packages\\transformers\\tokenization_utils_base.py:2418: FutureWarning: The `pad_to_max_length` argument is deprecated and will be removed in a future version, use `padding=True` or `padding='longest'` to pad to the longest sequence in the batch, or use `padding='max_length'` to pad to a max length. In this case, you can give a specific length with `max_length` (e.g. `max_length=45`) or leave max_length to None to pad to the maximal input size of the model (e.g. 512 for Bert).\n",
      "  warnings.warn(\n"
     ]
    }
   ],
   "source": [
    "BATCH_SIZE = 16\n",
    "\n",
    "train_data_loader = create_data_loader(X_train, y_train, tokenizer, MAX_LEN, BATCH_SIZE)\n",
    "test_data_loader = create_data_loader(X_test, y_test, tokenizer, MAX_LEN, BATCH_SIZE)\n",
    "\n",
    "data = next(iter(train_data_loader))\n",
    "print(data.keys())\n",
    "\n",
    "print(data['input_ids'].shape)\n",
    "print(data['attention_mask'].shape)\n",
    "print(data['targets'].shape)"
   ]
  },
  {
   "cell_type": "code",
   "execution_count": null,
   "metadata": {},
   "outputs": [
    {
     "data": {
      "application/vnd.jupyter.widget-view+json": {
       "model_id": "fe1f6921e02c4f6194ce4f299f996386",
       "version_major": 2,
       "version_minor": 0
      },
      "text/plain": [
       "Downloading model.safetensors:   0%|          | 0.00/436M [00:00<?, ?B/s]"
      ]
     },
     "metadata": {},
     "output_type": "display_data"
    },
    {
     "name": "stderr",
     "output_type": "stream",
     "text": [
      "c:\\Users\\fabian\\anaconda3\\Lib\\site-packages\\huggingface_hub\\file_download.py:133: UserWarning: `huggingface_hub` cache-system uses symlinks by default to efficiently store duplicated files but your machine does not support them in C:\\Users\\fabian\\.cache\\huggingface\\hub. Caching files will still work but in a degraded version that might require more space on your disk. This warning can be disabled by setting the `HF_HUB_DISABLE_SYMLINKS_WARNING` environment variable. For more details, see https://huggingface.co/docs/huggingface_hub/how-to-cache#limitations.\n",
      "To support symlinks on Windows, you either need to activate Developer Mode or to run Python as an administrator. In order to see activate developer mode, see this article: https://docs.microsoft.com/en-us/windows/apps/get-started/enable-your-device-for-development\n",
      "  warnings.warn(message)\n"
     ]
    }
   ],
   "source": [
    "bert_model = BertModel.from_pretrained(MODEL_NAME)"
   ]
  },
  {
   "cell_type": "code",
   "execution_count": null,
   "metadata": {},
   "outputs": [],
   "source": [
    "# Sentiment Analysis class\n",
    "\n",
    "class SentimentAnalysis(nn.Module):\n",
    "\n",
    "    def __init__(self, n_classes):\n",
    "        super(SentimentAnalysis, self).__init__()\n",
    "        self.bert = BertModel.from_pretrained(MODEL_NAME)\n",
    "        self.drop = nn.Dropout(p=0.3) # common dropout rate\n",
    "        self.out = nn.Linear(self.bert.config.hidden_size, n_classes)\n",
    "\n",
    "    def forward_prop(self, input_ids, attention_mask):\n",
    "        _, pooled_output = self.bert(\n",
    "            input_ids=input_ids,\n",
    "            attention_mask=attention_mask\n",
    "        )\n",
    "\n",
    "        output = self.drop(pooled_output)\n",
    "        return self.out(output)"
   ]
  },
  {
   "cell_type": "code",
   "execution_count": null,
   "metadata": {},
   "outputs": [
    {
     "name": "stdout",
     "output_type": "stream",
     "text": [
      "768\n"
     ]
    }
   ],
   "source": [
    "# Instantiate Classifier\n",
    "class_names = ['negative', 'neutral', 'positive']\n",
    "model = SentimentAnalysis(len(class_names))\n",
    "model = model.to(device)\n",
    "\n",
    "# Hidden units\n",
    "print(bert_model.config.hidden_size)"
   ]
  },
  {
   "cell_type": "code",
   "execution_count": 22,
   "metadata": {},
   "outputs": [
    {
     "ename": "NameError",
     "evalue": "name '_C' is not defined",
     "output_type": "error",
     "traceback": [
      "\u001b[1;31m---------------------------------------------------------------------------\u001b[0m",
      "\u001b[1;31mNameError\u001b[0m                                 Traceback (most recent call last)",
      "\u001b[1;32mc:\\Users\\fabian\\Documents\\VSCode\\NLP\\Sentiment_Analysis\\sentiment_analysis.ipynb Cell 32\u001b[0m line \u001b[0;36m1\n\u001b[1;32m----> <a href='vscode-notebook-cell:/c%3A/Users/fabian/Documents/VSCode/NLP/Sentiment_Analysis/sentiment_analysis.ipynb#X43sZmlsZQ%3D%3D?line=0'>1</a>\u001b[0m \u001b[39mfrom\u001b[39;00m \u001b[39mtransformers\u001b[39;00m \u001b[39mimport\u001b[39;00m AdamWeightDecay\n",
      "File \u001b[1;32mc:\\Users\\fabian\\anaconda3\\Lib\\site-packages\\transformers\\__init__.py:26\u001b[0m\n\u001b[0;32m     23\u001b[0m \u001b[39mfrom\u001b[39;00m \u001b[39mtyping\u001b[39;00m \u001b[39mimport\u001b[39;00m TYPE_CHECKING\n\u001b[0;32m     25\u001b[0m \u001b[39m# Check the dependencies satisfy the minimal versions required.\u001b[39;00m\n\u001b[1;32m---> 26\u001b[0m \u001b[39mfrom\u001b[39;00m \u001b[39m.\u001b[39;00m \u001b[39mimport\u001b[39;00m dependency_versions_check\n\u001b[0;32m     27\u001b[0m \u001b[39mfrom\u001b[39;00m \u001b[39m.\u001b[39;00m\u001b[39mutils\u001b[39;00m \u001b[39mimport\u001b[39;00m (\n\u001b[0;32m     28\u001b[0m     OptionalDependencyNotAvailable,\n\u001b[0;32m     29\u001b[0m     _LazyModule,\n\u001b[1;32m   (...)\u001b[0m\n\u001b[0;32m     46\u001b[0m     logging,\n\u001b[0;32m     47\u001b[0m )\n\u001b[0;32m     50\u001b[0m logger \u001b[39m=\u001b[39m logging\u001b[39m.\u001b[39mget_logger(\u001b[39m__name__\u001b[39m)  \u001b[39m# pylint: disable=invalid-name\u001b[39;00m\n",
      "File \u001b[1;32mc:\\Users\\fabian\\anaconda3\\Lib\\site-packages\\transformers\\dependency_versions_check.py:16\u001b[0m\n\u001b[0;32m      1\u001b[0m \u001b[39m# Copyright 2020 The HuggingFace Team. All rights reserved.\u001b[39;00m\n\u001b[0;32m      2\u001b[0m \u001b[39m#\u001b[39;00m\n\u001b[0;32m      3\u001b[0m \u001b[39m# Licensed under the Apache License, Version 2.0 (the \"License\");\u001b[39;00m\n\u001b[1;32m   (...)\u001b[0m\n\u001b[0;32m     12\u001b[0m \u001b[39m# See the License for the specific language governing permissions and\u001b[39;00m\n\u001b[0;32m     13\u001b[0m \u001b[39m# limitations under the License.\u001b[39;00m\n\u001b[0;32m     15\u001b[0m \u001b[39mfrom\u001b[39;00m \u001b[39m.\u001b[39;00m\u001b[39mdependency_versions_table\u001b[39;00m \u001b[39mimport\u001b[39;00m deps\n\u001b[1;32m---> 16\u001b[0m \u001b[39mfrom\u001b[39;00m \u001b[39m.\u001b[39;00m\u001b[39mutils\u001b[39;00m\u001b[39m.\u001b[39;00m\u001b[39mversions\u001b[39;00m \u001b[39mimport\u001b[39;00m require_version, require_version_core\n\u001b[0;32m     19\u001b[0m \u001b[39m# define which module versions we always want to check at run time\u001b[39;00m\n\u001b[0;32m     20\u001b[0m \u001b[39m# (usually the ones defined in `install_requires` in setup.py)\u001b[39;00m\n\u001b[0;32m     21\u001b[0m \u001b[39m#\u001b[39;00m\n\u001b[0;32m     22\u001b[0m \u001b[39m# order specific notes:\u001b[39;00m\n\u001b[0;32m     23\u001b[0m \u001b[39m# - tqdm must be checked before tokenizers\u001b[39;00m\n\u001b[0;32m     25\u001b[0m pkgs_to_check_at_runtime \u001b[39m=\u001b[39m [\n\u001b[0;32m     26\u001b[0m     \u001b[39m\"\u001b[39m\u001b[39mpython\u001b[39m\u001b[39m\"\u001b[39m,\n\u001b[0;32m     27\u001b[0m     \u001b[39m\"\u001b[39m\u001b[39mtqdm\u001b[39m\u001b[39m\"\u001b[39m,\n\u001b[1;32m   (...)\u001b[0m\n\u001b[0;32m     37\u001b[0m     \u001b[39m\"\u001b[39m\u001b[39mpyyaml\u001b[39m\u001b[39m\"\u001b[39m,\n\u001b[0;32m     38\u001b[0m ]\n",
      "File \u001b[1;32mc:\\Users\\fabian\\anaconda3\\Lib\\site-packages\\transformers\\utils\\__init__.py:31\u001b[0m\n\u001b[0;32m     22\u001b[0m \u001b[39mfrom\u001b[39;00m \u001b[39m.\u001b[39;00m\u001b[39mconstants\u001b[39;00m \u001b[39mimport\u001b[39;00m IMAGENET_DEFAULT_MEAN, IMAGENET_DEFAULT_STD, IMAGENET_STANDARD_MEAN, IMAGENET_STANDARD_STD\n\u001b[0;32m     23\u001b[0m \u001b[39mfrom\u001b[39;00m \u001b[39m.\u001b[39;00m\u001b[39mdoc\u001b[39;00m \u001b[39mimport\u001b[39;00m (\n\u001b[0;32m     24\u001b[0m     add_code_sample_docstrings,\n\u001b[0;32m     25\u001b[0m     add_end_docstrings,\n\u001b[1;32m   (...)\u001b[0m\n\u001b[0;32m     29\u001b[0m     replace_return_docstrings,\n\u001b[0;32m     30\u001b[0m )\n\u001b[1;32m---> 31\u001b[0m \u001b[39mfrom\u001b[39;00m \u001b[39m.\u001b[39;00m\u001b[39mgeneric\u001b[39;00m \u001b[39mimport\u001b[39;00m (\n\u001b[0;32m     32\u001b[0m     ContextManagers,\n\u001b[0;32m     33\u001b[0m     ExplicitEnum,\n\u001b[0;32m     34\u001b[0m     ModelOutput,\n\u001b[0;32m     35\u001b[0m     PaddingStrategy,\n\u001b[0;32m     36\u001b[0m     TensorType,\n\u001b[0;32m     37\u001b[0m     add_model_info_to_auto_map,\n\u001b[0;32m     38\u001b[0m     cached_property,\n\u001b[0;32m     39\u001b[0m     can_return_loss,\n\u001b[0;32m     40\u001b[0m     expand_dims,\n\u001b[0;32m     41\u001b[0m     find_labels,\n\u001b[0;32m     42\u001b[0m     flatten_dict,\n\u001b[0;32m     43\u001b[0m     infer_framework,\n\u001b[0;32m     44\u001b[0m     is_jax_tensor,\n\u001b[0;32m     45\u001b[0m     is_numpy_array,\n\u001b[0;32m     46\u001b[0m     is_tensor,\n\u001b[0;32m     47\u001b[0m     is_tf_symbolic_tensor,\n\u001b[0;32m     48\u001b[0m     is_tf_tensor,\n\u001b[0;32m     49\u001b[0m     is_torch_device,\n\u001b[0;32m     50\u001b[0m     is_torch_dtype,\n\u001b[0;32m     51\u001b[0m     is_torch_tensor,\n\u001b[0;32m     52\u001b[0m     reshape,\n\u001b[0;32m     53\u001b[0m     squeeze,\n\u001b[0;32m     54\u001b[0m     strtobool,\n\u001b[0;32m     55\u001b[0m     tensor_size,\n\u001b[0;32m     56\u001b[0m     to_numpy,\n\u001b[0;32m     57\u001b[0m     to_py_obj,\n\u001b[0;32m     58\u001b[0m     transpose,\n\u001b[0;32m     59\u001b[0m     working_or_temp_dir,\n\u001b[0;32m     60\u001b[0m )\n\u001b[0;32m     61\u001b[0m \u001b[39mfrom\u001b[39;00m \u001b[39m.\u001b[39;00m\u001b[39mhub\u001b[39;00m \u001b[39mimport\u001b[39;00m (\n\u001b[0;32m     62\u001b[0m     CLOUDFRONT_DISTRIB_PREFIX,\n\u001b[0;32m     63\u001b[0m     DISABLE_TELEMETRY,\n\u001b[1;32m   (...)\u001b[0m\n\u001b[0;32m     90\u001b[0m     try_to_load_from_cache,\n\u001b[0;32m     91\u001b[0m )\n\u001b[0;32m     92\u001b[0m \u001b[39mfrom\u001b[39;00m \u001b[39m.\u001b[39;00m\u001b[39mimport_utils\u001b[39;00m \u001b[39mimport\u001b[39;00m (\n\u001b[0;32m     93\u001b[0m     ENV_VARS_TRUE_AND_AUTO_VALUES,\n\u001b[0;32m     94\u001b[0m     ENV_VARS_TRUE_VALUES,\n\u001b[1;32m   (...)\u001b[0m\n\u001b[0;32m    194\u001b[0m     torch_required,\n\u001b[0;32m    195\u001b[0m )\n",
      "File \u001b[1;32mc:\\Users\\fabian\\anaconda3\\Lib\\site-packages\\transformers\\utils\\generic.py:432\u001b[0m\n\u001b[0;32m    428\u001b[0m         \u001b[39mreturn\u001b[39;00m \u001b[39mtuple\u001b[39m(\u001b[39mself\u001b[39m[k] \u001b[39mfor\u001b[39;00m k \u001b[39min\u001b[39;00m \u001b[39mself\u001b[39m\u001b[39m.\u001b[39mkeys())\n\u001b[0;32m    431\u001b[0m \u001b[39mif\u001b[39;00m is_torch_available():\n\u001b[1;32m--> 432\u001b[0m     \u001b[39mimport\u001b[39;00m \u001b[39mtorch\u001b[39;00m\u001b[39m.\u001b[39;00m\u001b[39mutils\u001b[39;00m\u001b[39m.\u001b[39;00m\u001b[39m_pytree\u001b[39;00m \u001b[39mas\u001b[39;00m \u001b[39m_torch_pytree\u001b[39;00m\n\u001b[0;32m    434\u001b[0m     \u001b[39mdef\u001b[39;00m \u001b[39m_model_output_flatten\u001b[39m(output: ModelOutput) \u001b[39m-\u001b[39m\u001b[39m>\u001b[39m Tuple[List[Any], \u001b[39m\"\u001b[39m\u001b[39m_torch_pytree.Context\u001b[39m\u001b[39m\"\u001b[39m]:\n\u001b[0;32m    435\u001b[0m         \u001b[39mreturn\u001b[39;00m \u001b[39mlist\u001b[39m(output\u001b[39m.\u001b[39mvalues()), (\u001b[39mtype\u001b[39m(output), \u001b[39mlist\u001b[39m(output\u001b[39m.\u001b[39mkeys()))\n",
      "File \u001b[1;32mc:\\Users\\fabian\\anaconda3\\Lib\\site-packages\\torch\\__init__.py:465\u001b[0m\n\u001b[0;32m    451\u001b[0m         \u001b[39mraise\u001b[39;00m \u001b[39mImportError\u001b[39;00m(textwrap\u001b[39m.\u001b[39mdedent(\u001b[39m'''\u001b[39m\n\u001b[0;32m    452\u001b[0m \u001b[39m            Failed to load PyTorch C extensions:\u001b[39m\n\u001b[0;32m    453\u001b[0m \u001b[39m                It appears that PyTorch has loaded the `torch/_C` folder\u001b[39m\n\u001b[1;32m   (...)\u001b[0m\n\u001b[0;32m    461\u001b[0m \u001b[39m                or by running Python from a different directory.\u001b[39m\n\u001b[0;32m    462\u001b[0m \u001b[39m            \u001b[39m\u001b[39m'''\u001b[39m)\u001b[39m.\u001b[39mstrip()) \u001b[39mfrom\u001b[39;00m \u001b[39mNone\u001b[39;00m\n\u001b[0;32m    463\u001b[0m     \u001b[39mraise\u001b[39;00m  \u001b[39m# If __file__ is not None the cause is unknown, so just re-raise.\u001b[39;00m\n\u001b[1;32m--> 465\u001b[0m \u001b[39mfor\u001b[39;00m name \u001b[39min\u001b[39;00m \u001b[39mdir\u001b[39m(_C):\n\u001b[0;32m    466\u001b[0m     \u001b[39mif\u001b[39;00m name[\u001b[39m0\u001b[39m] \u001b[39m!=\u001b[39m \u001b[39m'\u001b[39m\u001b[39m_\u001b[39m\u001b[39m'\u001b[39m \u001b[39mand\u001b[39;00m \u001b[39mnot\u001b[39;00m name\u001b[39m.\u001b[39mendswith(\u001b[39m'\u001b[39m\u001b[39mBase\u001b[39m\u001b[39m'\u001b[39m):\n\u001b[0;32m    467\u001b[0m         __all__\u001b[39m.\u001b[39mappend(name)\n",
      "\u001b[1;31mNameError\u001b[0m: name '_C' is not defined"
     ]
    }
   ],
   "source": [
    "from transformers import AdamWeightDecay"
   ]
  }
 ],
 "metadata": {
  "kernelspec": {
   "display_name": "base",
   "language": "python",
   "name": "python3"
  },
  "language_info": {
   "codemirror_mode": {
    "name": "ipython",
    "version": 3
   },
   "file_extension": ".py",
   "mimetype": "text/x-python",
   "name": "python",
   "nbconvert_exporter": "python",
   "pygments_lexer": "ipython3",
   "version": "3.11.5"
  }
 },
 "nbformat": 4,
 "nbformat_minor": 2
}
