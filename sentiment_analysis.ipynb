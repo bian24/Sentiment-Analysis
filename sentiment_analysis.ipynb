{
 "cells": [
  {
   "cell_type": "code",
   "execution_count": 62,
   "metadata": {},
   "outputs": [],
   "source": [
    "from collections import defaultdict\n",
    "import matplotlib.pyplot as plt\n",
    "import numpy as np\n",
    "import pandas as pd\n",
    "import seaborn as sns\n",
    "from sklearn.model_selection import train_test_split"
   ]
  },
  {
   "cell_type": "code",
   "execution_count": 63,
   "metadata": {},
   "outputs": [
    {
     "name": "stderr",
     "output_type": "stream",
     "text": [
      "Found cached dataset financial_phrasebank (C:/Users/fabian/.cache/huggingface/datasets/financial_phrasebank/sentences_50agree/1.0.0/550bde12e6c30e2674da973a55f57edde5181d53f5a5a34c1531c53f93b7e141)\n",
      "100%|██████████| 1/1 [00:00<00:00, 323.81it/s]\n"
     ]
    }
   ],
   "source": [
    "from datasets import load_dataset\n",
    "dataset = load_dataset(\"financial_phrasebank\", \"sentences_50agree\")\n",
    "\n",
    "df = dataset['train'].to_pandas()"
   ]
  },
  {
   "cell_type": "code",
   "execution_count": 64,
   "metadata": {},
   "outputs": [
    {
     "data": {
      "text/plain": [
       "<Axes: >"
      ]
     },
     "execution_count": 64,
     "metadata": {},
     "output_type": "execute_result"
    },
    {
     "data": {
      "image/png": "[encoded data removed]",
      "text/plain": [
       "<Figure size 640x480 with 1 Axes>"
      ]
     },
     "metadata": {},
     "output_type": "display_data"
    }
   ],
   "source": [
    "count = df['label'].value_counts()\n",
    "bar_data = pd.DataFrame({'negative': [count[0]], 'neutral': [count[1]]\n",
    "        , 'positive': [count[2]]})\n",
    "sns.barplot(data=bar_data)"
   ]
  },
  {
   "cell_type": "markdown",
   "metadata": {},
   "source": [
    "# Preprocessing"
   ]
  },
  {
   "cell_type": "code",
   "execution_count": 65,
   "metadata": {},
   "outputs": [],
   "source": [
    "from nltk.corpus import stopwords\n",
    "from nltk.tokenize import word_tokenize\n",
    "from nltk.stem import WordNetLemmatizer\n",
    "import re"
   ]
  },
  {
   "cell_type": "code",
   "execution_count": 66,
   "metadata": {},
   "outputs": [],
   "source": [
    "# Lemmatize\n",
    "lemma = WordNetLemmatizer()\n",
    "stopwords = stopwords.words('english')\n",
    "\n",
    "def clean_text(text: str) -> list:\n",
    "    corpus = str(text).lower()\n",
    "    corpus = re.sub('[^a-zA-Z]+',' ', corpus).strip()\n",
    "    tokens = word_tokenize(corpus)\n",
    "    words = [i for i in tokens if i not in stopwords]\n",
    "    lemmatize = [lemma.lemmatize(w) for w in words]\n",
    "\n",
    "    return lemmatize\n",
    "\n",
    "preprocess_text = [clean_text(i) for i in df['sentence']]\n",
    "df['preprocess_text'] = preprocess_text"
   ]
  },
  {
   "cell_type": "markdown",
   "metadata": {},
   "source": [
    "# Method 1 Positive and Negative Word Count with Normalization"
   ]
  },
  {
   "cell_type": "code",
   "execution_count": 67,
   "metadata": {},
   "outputs": [],
   "source": [
    "# Importing list of positive and negative words\n",
    "with open('positive-words.txt', 'r') as file1:\n",
    "    pos_words = file1.read()\n",
    "\n",
    "with open('negative-words.txt', 'r') as file2:\n",
    "    neg_words = file2.read()\n",
    "\n",
    "pos_words = [i for i in pos_words.split('\\n')]\n",
    "neg_words = [i for i in neg_words.split('\\n')]\n",
    "\n",
    "count_pos = df['preprocess_text'].map(lambda x: len([i for i in x if i in pos_words]))\n",
    "count_neg = df['preprocess_text'].map(lambda x: len([i for i in x if i in neg_words]))\n",
    "\n",
    "df['count_pos'] = count_pos\n",
    "df['count_neg'] = count_neg\n",
    "\n",
    "df['total_len'] = df['preprocess_text'].map(lambda x: len(x))\n",
    "\n",
    "df['sentiment_score'] = round((df['count_pos'] - df['count_neg']) /df['total_len'], 2)\n"
   ]
  },
  {
   "cell_type": "code",
   "execution_count": 68,
   "metadata": {},
   "outputs": [
    {
     "name": "stdout",
     "output_type": "stream",
     "text": [
      "The overall accuracy with a threshold of 0.01 is 54.91%\n",
      "The overall accuracy with a threshold of 0.02 is 54.91%\n",
      "The overall accuracy with a threshold of 0.05 is 55.28%\n",
      "The overall accuracy with a threshold of 0.1 is 57.94%\n",
      "The overall accuracy with a threshold of 0.2 is 59.33%\n",
      "The overall accuracy with a threshold of 0.5 is 59.29%\n",
      "The overall accuracy with a threshold of 0.75 is 59.33%\n",
      "The overall accuracy with a threshold of 1 is 59.39%\n"
     ]
    }
   ],
   "source": [
    "'''\n",
    "Let's test the accuracy of the sentiment score\n",
    "We set an arbitrary classification rule of the following:\n",
    "\n",
    "sentiment_score < -threshold     ---> Negative\n",
    "-threshold<=sentiment_score<=threshold ---> Neutral\n",
    "sentiment_score > threshold     ---> Positive\n",
    "\n",
    "with the threshold being a value we can set.\n",
    "'''\n",
    "\n",
    "def score_classification(score, threshold):\n",
    "    if score < -threshold:\n",
    "        res = 0\n",
    "    elif score <= threshold:\n",
    "        res = 1\n",
    "    else:\n",
    "        res = 2\n",
    "    \n",
    "    return res\n",
    "\n",
    "thresholds = [0.01, 0.02, 0.05, 0.10, 0.2, 0.5, 0.75, 1] # list of threshold values we can test\n",
    "\n",
    "for threshold in thresholds:\n",
    "    df['sentiment_score {}'.format(threshold)] = df['sentiment_score'].map(lambda x: score_classification(x, threshold))\n",
    "    result = df.apply(lambda x: 1 if x['sentiment_score {}'.format(threshold)] == x['label'] else 0, axis=1).sum()\n",
    "    df.drop(['sentiment_score {}'.format(threshold)], axis=1)\n",
    "    accuracy = result / len(df) * 100\n",
    "    print(\"The overall accuracy with a threshold of {} is {:.2f}%\".format(threshold, accuracy))\n"
   ]
  },
  {
   "cell_type": "markdown",
   "metadata": {},
   "source": [
    "## Method 2 VADER SentimentIntensityAnalyser"
   ]
  },
  {
   "cell_type": "code",
   "execution_count": 69,
   "metadata": {},
   "outputs": [],
   "source": [
    "from nltk.sentiment.vader import SentimentIntensityAnalyzer\n",
    "sent = SentimentIntensityAnalyzer()\n",
    "\n",
    "polarity = [round(sent.polarity_scores(t)['compound'], 2) for t in df['sentence']]\n",
    "df['sentiment_score (VADER)'] = polarity"
   ]
  },
  {
   "cell_type": "code",
   "execution_count": 70,
   "metadata": {},
   "outputs": [
    {
     "name": "stdout",
     "output_type": "stream",
     "text": [
      "The overall accuracy (VADER) with a threshold of 0.01 is 54.27%\n",
      "The overall accuracy (VADER) with a threshold of 0.02 is 54.25%\n",
      "The overall accuracy (VADER) with a threshold of 0.05 is 54.44%\n",
      "The overall accuracy (VADER) with a threshold of 0.1 is 54.97%\n",
      "The overall accuracy (VADER) with a threshold of 0.2 is 55.43%\n",
      "The overall accuracy (VADER) with a threshold of 0.5 is 61.33%\n",
      "The overall accuracy (VADER) with a threshold of 0.75 is 59.68%\n",
      "The overall accuracy (VADER) with a threshold of 1 is 59.41%\n"
     ]
    }
   ],
   "source": [
    "# Using the same rule of classification as before\n",
    "for threshold in thresholds:\n",
    "    df['sentiment_score (VADER) {}'.format(threshold)] = df['sentiment_score (VADER)'].map(lambda x: score_classification(x, threshold))\n",
    "    result = df.apply(lambda x: 1 if x['sentiment_score (VADER) {}'.format(threshold)] == x['label'] else 0, axis=1).sum()\n",
    "    df.drop(['sentiment_score {}'.format(threshold)], axis=1)\n",
    "    accuracy = result / len(df) * 100\n",
    "    print(\"The overall accuracy (VADER) with a threshold of {} is {:.2f}%\".format(threshold, accuracy))\n"
   ]
  },
  {
   "cell_type": "markdown",
   "metadata": {},
   "source": [
    "## Method 3 Using TF-IDF and Scikit-Learn classifiers"
   ]
  },
  {
   "cell_type": "code",
   "execution_count": 71,
   "metadata": {},
   "outputs": [],
   "source": [
    "# We need to pre process text in a different way for this method\n",
    "combine_words = lambda x: ' '.join(i for i in x)\n",
    "df['preprocess_text'] = df['preprocess_text'].apply(combine_words)"
   ]
  },
  {
   "cell_type": "code",
   "execution_count": 72,
   "metadata": {},
   "outputs": [
    {
     "name": "stdout",
     "output_type": "stream",
     "text": [
      "Train: ((3634,), (3634,)), Test: ((1212,), (1212,))\n"
     ]
    },
    {
     "data": {
      "text/plain": [
       "4229      resident access block planned aleksandri street\n",
       "2598    company operates business two reportable segme...\n",
       "4524    however increase signaling traffic waste netwo...\n",
       "1161    ahlstrom corporation stock exchange release ah...\n",
       "1873    winner included honda odyssey minivan nissan a...\n",
       "                              ...                        \n",
       "4426    currency effect pct mln euro mln negative impa...\n",
       "466     lidskoe pivo investment program foresees integ...\n",
       "3092    product include consumer electronics device mo...\n",
       "3772              bridge part highway development project\n",
       "860     adp news oct finnish consulting engineering co...\n",
       "Name: preprocess_text, Length: 3634, dtype: object"
      ]
     },
     "execution_count": 72,
     "metadata": {},
     "output_type": "execute_result"
    }
   ],
   "source": [
    "# Train Test Split\n",
    "X_train, X_test, y_train, y_test = train_test_split(\n",
    "    df['preprocess_text'], df['label'], test_size=0.25, random_state=42)\n",
    "\n",
    "print(\"Train: {}, Test: {}\".format((X_train.shape, y_train.shape), (X_test.shape, y_test.shape)))\n",
    "X_train"
   ]
  },
  {
   "cell_type": "code",
   "execution_count": 73,
   "metadata": {},
   "outputs": [],
   "source": [
    "# TF-IDF Vectorizer\n",
    "from sklearn.feature_extraction.text import TfidfVectorizer\n",
    "vectorizer = TfidfVectorizer()\n",
    "\n",
    "# Metrics\n",
    "from sklearn.metrics import classification_report\n",
    "\n",
    "tf_x_train = vectorizer.fit_transform(X_train)\n",
    "tf_x_test = vectorizer.transform(X_test)"
   ]
  },
  {
   "cell_type": "code",
   "execution_count": 74,
   "metadata": {},
   "outputs": [
    {
     "name": "stderr",
     "output_type": "stream",
     "text": [
      "c:\\Users\\fabian\\anaconda3\\envs\\ML-DS\\Lib\\site-packages\\sklearn\\svm\\_classes.py:32: FutureWarning: The default value of `dual` will change from `True` to `'auto'` in 1.5. Set the value of `dual` explicitly to suppress the warning.\n",
      "  warnings.warn(\n"
     ]
    },
    {
     "data": {
      "text/plain": [
       "{'precision': 0.729014288096451,\n",
       " 'recall': 0.7351485148514851,\n",
       " 'f1-score': 0.7268776668497455,\n",
       " 'support': 1212.0}"
      ]
     },
     "execution_count": 74,
     "metadata": {},
     "output_type": "execute_result"
    }
   ],
   "source": [
    "# SVC\n",
    "from sklearn.svm import LinearSVC\n",
    "svm = LinearSVC(random_state=0)\n",
    "\n",
    "svm.fit(tf_x_train, y_train)\n",
    "y_test_pred = svm.predict(tf_x_test)\n",
    "\n",
    "report = classification_report(y_test, y_test_pred, output_dict=True)\n",
    "report['weighted avg']"
   ]
  },
  {
   "cell_type": "code",
   "execution_count": 75,
   "metadata": {},
   "outputs": [
    {
     "data": {
      "text/plain": [
       "{'precision': 0.7371480589917992,\n",
       " 'recall': 0.7326732673267327,\n",
       " 'f1-score': 0.7095368658592509,\n",
       " 'support': 1212.0}"
      ]
     },
     "execution_count": 75,
     "metadata": {},
     "output_type": "execute_result"
    }
   ],
   "source": [
    "# Logistic Regression\n",
    "from sklearn.linear_model import LogisticRegression\n",
    "lgr = LogisticRegression(max_iter=1000, solver='saga')\n",
    "\n",
    "lgr.fit(tf_x_train, y_train)\n",
    "y_test_pred = lgr.predict(tf_x_test)\n",
    "\n",
    "report = classification_report(y_test, y_test_pred, output_dict=True)\n",
    "report['weighted avg']"
   ]
  },
  {
   "cell_type": "code",
   "execution_count": 76,
   "metadata": {},
   "outputs": [
    {
     "data": {
      "text/plain": [
       "{'precision': 0.7352294650647331,\n",
       " 'recall': 0.721947194719472,\n",
       " 'f1-score': 0.6900290980608877,\n",
       " 'support': 1212.0}"
      ]
     },
     "execution_count": 76,
     "metadata": {},
     "output_type": "execute_result"
    }
   ],
   "source": [
    "# SVM\n",
    "from sklearn.svm import SVC\n",
    "\n",
    "svm = SVC()\n",
    "svm.fit(tf_x_train, y_train)\n",
    "y_test_pred = svm.predict(tf_x_test)\n",
    "\n",
    "report = classification_report(y_test, y_test_pred, output_dict=True)\n",
    "report['weighted avg']"
   ]
  },
  {
   "cell_type": "code",
   "execution_count": 77,
   "metadata": {},
   "outputs": [
    {
     "name": "stdout",
     "output_type": "stream",
     "text": [
      "Fitting 5 folds for each of 48 candidates, totalling 240 fits\n",
      "[CV] END .........................C=0.1, gamma=1, kernel=rbf; total time=   1.3s\n",
      "[CV] END .........................C=0.1, gamma=1, kernel=rbf; total time=   1.3s\n",
      "[CV] END .........................C=0.1, gamma=1, kernel=rbf; total time=   1.3s\n",
      "[CV] END .........................C=0.1, gamma=1, kernel=rbf; total time=   1.3s\n",
      "[CV] END .........................C=0.1, gamma=1, kernel=rbf; total time=   1.3s\n",
      "[CV] END ........................C=0.1, gamma=1, kernel=poly; total time=   1.3s\n",
      "[CV] END ........................C=0.1, gamma=1, kernel=poly; total time=   1.4s\n",
      "[CV] END ........................C=0.1, gamma=1, kernel=poly; total time=   1.3s\n",
      "[CV] END ........................C=0.1, gamma=1, kernel=poly; total time=   1.3s\n",
      "[CV] END ........................C=0.1, gamma=1, kernel=poly; total time=   1.3s\n",
      "[CV] END .....................C=0.1, gamma=1, kernel=sigmoid; total time=   0.9s\n",
      "[CV] END .....................C=0.1, gamma=1, kernel=sigmoid; total time=   0.9s\n",
      "[CV] END .....................C=0.1, gamma=1, kernel=sigmoid; total time=   0.9s\n",
      "[CV] END .....................C=0.1, gamma=1, kernel=sigmoid; total time=   0.9s\n",
      "[CV] END .....................C=0.1, gamma=1, kernel=sigmoid; total time=   1.0s\n",
      "[CV] END .......................C=0.1, gamma=0.1, kernel=rbf; total time=   1.0s\n",
      "[CV] END .......................C=0.1, gamma=0.1, kernel=rbf; total time=   1.0s\n",
      "[CV] END .......................C=0.1, gamma=0.1, kernel=rbf; total time=   1.0s\n",
      "[CV] END .......................C=0.1, gamma=0.1, kernel=rbf; total time=   1.0s\n",
      "[CV] END .......................C=0.1, gamma=0.1, kernel=rbf; total time=   1.0s\n",
      "[CV] END ......................C=0.1, gamma=0.1, kernel=poly; total time=   0.7s\n",
      "[CV] END ......................C=0.1, gamma=0.1, kernel=poly; total time=   0.7s\n",
      "[CV] END ......................C=0.1, gamma=0.1, kernel=poly; total time=   0.7s\n",
      "[CV] END ......................C=0.1, gamma=0.1, kernel=poly; total time=   0.7s\n",
      "[CV] END ......................C=0.1, gamma=0.1, kernel=poly; total time=   0.7s\n",
      "[CV] END ...................C=0.1, gamma=0.1, kernel=sigmoid; total time=   1.0s\n",
      "[CV] END ...................C=0.1, gamma=0.1, kernel=sigmoid; total time=   1.0s\n",
      "[CV] END ...................C=0.1, gamma=0.1, kernel=sigmoid; total time=   1.0s\n",
      "[CV] END ...................C=0.1, gamma=0.1, kernel=sigmoid; total time=   0.9s\n",
      "[CV] END ...................C=0.1, gamma=0.1, kernel=sigmoid; total time=   1.0s\n",
      "[CV] END ......................C=0.1, gamma=0.01, kernel=rbf; total time=   0.8s\n",
      "[CV] END ......................C=0.1, gamma=0.01, kernel=rbf; total time=   0.9s\n",
      "[CV] END ......................C=0.1, gamma=0.01, kernel=rbf; total time=   0.8s\n",
      "[CV] END ......................C=0.1, gamma=0.01, kernel=rbf; total time=   0.9s\n",
      "[CV] END ......................C=0.1, gamma=0.01, kernel=rbf; total time=   0.9s\n",
      "[CV] END .....................C=0.1, gamma=0.01, kernel=poly; total time=   0.7s\n",
      "[CV] END .....................C=0.1, gamma=0.01, kernel=poly; total time=   0.8s\n",
      "[CV] END .....................C=0.1, gamma=0.01, kernel=poly; total time=   0.7s\n",
      "[CV] END .....................C=0.1, gamma=0.01, kernel=poly; total time=   0.7s\n",
      "[CV] END .....................C=0.1, gamma=0.01, kernel=poly; total time=   0.7s\n",
      "[CV] END ..................C=0.1, gamma=0.01, kernel=sigmoid; total time=   0.8s\n",
      "[CV] END ..................C=0.1, gamma=0.01, kernel=sigmoid; total time=   0.8s\n",
      "[CV] END ..................C=0.1, gamma=0.01, kernel=sigmoid; total time=   0.8s\n",
      "[CV] END ..................C=0.1, gamma=0.01, kernel=sigmoid; total time=   0.8s\n",
      "[CV] END ..................C=0.1, gamma=0.01, kernel=sigmoid; total time=   0.8s\n",
      "[CV] END .....................C=0.1, gamma=0.001, kernel=rbf; total time=   0.8s\n",
      "[CV] END .....................C=0.1, gamma=0.001, kernel=rbf; total time=   0.7s\n",
      "[CV] END .....................C=0.1, gamma=0.001, kernel=rbf; total time=   0.8s\n",
      "[CV] END .....................C=0.1, gamma=0.001, kernel=rbf; total time=   0.8s\n",
      "[CV] END .....................C=0.1, gamma=0.001, kernel=rbf; total time=   0.7s\n",
      "[CV] END ....................C=0.1, gamma=0.001, kernel=poly; total time=   0.7s\n",
      "[CV] END ....................C=0.1, gamma=0.001, kernel=poly; total time=   0.7s\n",
      "[CV] END ....................C=0.1, gamma=0.001, kernel=poly; total time=   0.7s\n",
      "[CV] END ....................C=0.1, gamma=0.001, kernel=poly; total time=   0.8s\n",
      "[CV] END ....................C=0.1, gamma=0.001, kernel=poly; total time=   0.7s\n",
      "[CV] END .................C=0.1, gamma=0.001, kernel=sigmoid; total time=   0.7s\n",
      "[CV] END .................C=0.1, gamma=0.001, kernel=sigmoid; total time=   0.8s\n",
      "[CV] END .................C=0.1, gamma=0.001, kernel=sigmoid; total time=   0.8s\n",
      "[CV] END .................C=0.1, gamma=0.001, kernel=sigmoid; total time=   0.7s\n",
      "[CV] END .................C=0.1, gamma=0.001, kernel=sigmoid; total time=   0.7s\n",
      "[CV] END ...........................C=1, gamma=1, kernel=rbf; total time=   1.4s\n",
      "[CV] END ...........................C=1, gamma=1, kernel=rbf; total time=   1.4s\n",
      "[CV] END ...........................C=1, gamma=1, kernel=rbf; total time=   1.4s\n",
      "[CV] END ...........................C=1, gamma=1, kernel=rbf; total time=   1.5s\n",
      "[CV] END ...........................C=1, gamma=1, kernel=rbf; total time=   1.4s\n",
      "[CV] END ..........................C=1, gamma=1, kernel=poly; total time=   1.4s\n",
      "[CV] END ..........................C=1, gamma=1, kernel=poly; total time=   1.4s\n",
      "[CV] END ..........................C=1, gamma=1, kernel=poly; total time=   1.5s\n",
      "[CV] END ..........................C=1, gamma=1, kernel=poly; total time=   1.4s\n",
      "[CV] END ..........................C=1, gamma=1, kernel=poly; total time=   1.4s\n",
      "[CV] END .......................C=1, gamma=1, kernel=sigmoid; total time=   0.9s\n",
      "[CV] END .......................C=1, gamma=1, kernel=sigmoid; total time=   0.9s\n",
      "[CV] END .......................C=1, gamma=1, kernel=sigmoid; total time=   0.9s\n",
      "[CV] END .......................C=1, gamma=1, kernel=sigmoid; total time=   0.9s\n",
      "[CV] END .......................C=1, gamma=1, kernel=sigmoid; total time=   0.9s\n",
      "[CV] END .........................C=1, gamma=0.1, kernel=rbf; total time=   1.0s\n",
      "[CV] END .........................C=1, gamma=0.1, kernel=rbf; total time=   1.0s\n",
      "[CV] END .........................C=1, gamma=0.1, kernel=rbf; total time=   1.0s\n",
      "[CV] END .........................C=1, gamma=0.1, kernel=rbf; total time=   1.0s\n",
      "[CV] END .........................C=1, gamma=0.1, kernel=rbf; total time=   1.0s\n",
      "[CV] END ........................C=1, gamma=0.1, kernel=poly; total time=   0.8s\n",
      "[CV] END ........................C=1, gamma=0.1, kernel=poly; total time=   0.9s\n",
      "[CV] END ........................C=1, gamma=0.1, kernel=poly; total time=   0.8s\n",
      "[CV] END ........................C=1, gamma=0.1, kernel=poly; total time=   0.8s\n",
      "[CV] END ........................C=1, gamma=0.1, kernel=poly; total time=   0.8s\n",
      "[CV] END .....................C=1, gamma=0.1, kernel=sigmoid; total time=   1.2s\n",
      "[CV] END .....................C=1, gamma=0.1, kernel=sigmoid; total time=   1.0s\n",
      "[CV] END .....................C=1, gamma=0.1, kernel=sigmoid; total time=   1.1s\n",
      "[CV] END .....................C=1, gamma=0.1, kernel=sigmoid; total time=   1.2s\n",
      "[CV] END .....................C=1, gamma=0.1, kernel=sigmoid; total time=   1.1s\n",
      "[CV] END ........................C=1, gamma=0.01, kernel=rbf; total time=   1.1s\n",
      "[CV] END ........................C=1, gamma=0.01, kernel=rbf; total time=   1.2s\n",
      "[CV] END ........................C=1, gamma=0.01, kernel=rbf; total time=   1.0s\n",
      "[CV] END ........................C=1, gamma=0.01, kernel=rbf; total time=   1.1s\n",
      "[CV] END ........................C=1, gamma=0.01, kernel=rbf; total time=   1.0s\n",
      "[CV] END .......................C=1, gamma=0.01, kernel=poly; total time=   0.8s\n",
      "[CV] END .......................C=1, gamma=0.01, kernel=poly; total time=   0.8s\n",
      "[CV] END .......................C=1, gamma=0.01, kernel=poly; total time=   0.8s\n",
      "[CV] END .......................C=1, gamma=0.01, kernel=poly; total time=   0.8s\n",
      "[CV] END .......................C=1, gamma=0.01, kernel=poly; total time=   0.8s\n",
      "[CV] END ....................C=1, gamma=0.01, kernel=sigmoid; total time=   1.0s\n",
      "[CV] END ....................C=1, gamma=0.01, kernel=sigmoid; total time=   1.0s\n",
      "[CV] END ....................C=1, gamma=0.01, kernel=sigmoid; total time=   1.1s\n",
      "[CV] END ....................C=1, gamma=0.01, kernel=sigmoid; total time=   1.1s\n",
      "[CV] END ....................C=1, gamma=0.01, kernel=sigmoid; total time=   1.0s\n",
      "[CV] END .......................C=1, gamma=0.001, kernel=rbf; total time=   0.9s\n",
      "[CV] END .......................C=1, gamma=0.001, kernel=rbf; total time=   1.0s\n",
      "[CV] END .......................C=1, gamma=0.001, kernel=rbf; total time=   0.9s\n",
      "[CV] END .......................C=1, gamma=0.001, kernel=rbf; total time=   1.0s\n",
      "[CV] END .......................C=1, gamma=0.001, kernel=rbf; total time=   0.9s\n",
      "[CV] END ......................C=1, gamma=0.001, kernel=poly; total time=   0.8s\n",
      "[CV] END ......................C=1, gamma=0.001, kernel=poly; total time=   0.8s\n",
      "[CV] END ......................C=1, gamma=0.001, kernel=poly; total time=   0.8s\n",
      "[CV] END ......................C=1, gamma=0.001, kernel=poly; total time=   0.7s\n",
      "[CV] END ......................C=1, gamma=0.001, kernel=poly; total time=   0.7s\n",
      "[CV] END ...................C=1, gamma=0.001, kernel=sigmoid; total time=   0.8s\n",
      "[CV] END ...................C=1, gamma=0.001, kernel=sigmoid; total time=   0.8s\n",
      "[CV] END ...................C=1, gamma=0.001, kernel=sigmoid; total time=   0.8s\n",
      "[CV] END ...................C=1, gamma=0.001, kernel=sigmoid; total time=   0.8s\n",
      "[CV] END ...................C=1, gamma=0.001, kernel=sigmoid; total time=   0.8s\n",
      "[CV] END ..........................C=10, gamma=1, kernel=rbf; total time=   1.5s\n",
      "[CV] END ..........................C=10, gamma=1, kernel=rbf; total time=   1.6s\n",
      "[CV] END ..........................C=10, gamma=1, kernel=rbf; total time=   1.6s\n",
      "[CV] END ..........................C=10, gamma=1, kernel=rbf; total time=   1.6s\n",
      "[CV] END ..........................C=10, gamma=1, kernel=rbf; total time=   1.6s\n",
      "[CV] END .........................C=10, gamma=1, kernel=poly; total time=   1.5s\n",
      "[CV] END .........................C=10, gamma=1, kernel=poly; total time=   1.6s\n",
      "[CV] END .........................C=10, gamma=1, kernel=poly; total time=   1.5s\n",
      "[CV] END .........................C=10, gamma=1, kernel=poly; total time=   1.6s\n",
      "[CV] END .........................C=10, gamma=1, kernel=poly; total time=   1.5s\n",
      "[CV] END ......................C=10, gamma=1, kernel=sigmoid; total time=   0.9s\n",
      "[CV] END ......................C=10, gamma=1, kernel=sigmoid; total time=   0.8s\n",
      "[CV] END ......................C=10, gamma=1, kernel=sigmoid; total time=   1.1s\n",
      "[CV] END ......................C=10, gamma=1, kernel=sigmoid; total time=   0.9s\n",
      "[CV] END ......................C=10, gamma=1, kernel=sigmoid; total time=   1.0s\n",
      "[CV] END ........................C=10, gamma=0.1, kernel=rbf; total time=   1.2s\n",
      "[CV] END ........................C=10, gamma=0.1, kernel=rbf; total time=   1.2s\n",
      "[CV] END ........................C=10, gamma=0.1, kernel=rbf; total time=   1.2s\n",
      "[CV] END ........................C=10, gamma=0.1, kernel=rbf; total time=   1.3s\n",
      "[CV] END ........................C=10, gamma=0.1, kernel=rbf; total time=   1.2s\n",
      "[CV] END .......................C=10, gamma=0.1, kernel=poly; total time=   1.4s\n",
      "[CV] END .......................C=10, gamma=0.1, kernel=poly; total time=   1.4s\n",
      "[CV] END .......................C=10, gamma=0.1, kernel=poly; total time=   1.4s\n",
      "[CV] END .......................C=10, gamma=0.1, kernel=poly; total time=   1.3s\n",
      "[CV] END .......................C=10, gamma=0.1, kernel=poly; total time=   1.4s\n",
      "[CV] END ....................C=10, gamma=0.1, kernel=sigmoid; total time=   1.0s\n",
      "[CV] END ....................C=10, gamma=0.1, kernel=sigmoid; total time=   1.0s\n",
      "[CV] END ....................C=10, gamma=0.1, kernel=sigmoid; total time=   1.0s\n",
      "[CV] END ....................C=10, gamma=0.1, kernel=sigmoid; total time=   1.0s\n",
      "[CV] END ....................C=10, gamma=0.1, kernel=sigmoid; total time=   1.0s\n",
      "[CV] END .......................C=10, gamma=0.01, kernel=rbf; total time=   1.0s\n",
      "[CV] END .......................C=10, gamma=0.01, kernel=rbf; total time=   1.0s\n",
      "[CV] END .......................C=10, gamma=0.01, kernel=rbf; total time=   1.0s\n",
      "[CV] END .......................C=10, gamma=0.01, kernel=rbf; total time=   1.1s\n",
      "[CV] END .......................C=10, gamma=0.01, kernel=rbf; total time=   1.0s\n",
      "[CV] END ......................C=10, gamma=0.01, kernel=poly; total time=   0.8s\n",
      "[CV] END ......................C=10, gamma=0.01, kernel=poly; total time=   0.7s\n",
      "[CV] END ......................C=10, gamma=0.01, kernel=poly; total time=   0.7s\n",
      "[CV] END ......................C=10, gamma=0.01, kernel=poly; total time=   0.7s\n",
      "[CV] END ......................C=10, gamma=0.01, kernel=poly; total time=   0.8s\n",
      "[CV] END ...................C=10, gamma=0.01, kernel=sigmoid; total time=   1.0s\n",
      "[CV] END ...................C=10, gamma=0.01, kernel=sigmoid; total time=   1.0s\n",
      "[CV] END ...................C=10, gamma=0.01, kernel=sigmoid; total time=   0.9s\n",
      "[CV] END ...................C=10, gamma=0.01, kernel=sigmoid; total time=   1.0s\n",
      "[CV] END ...................C=10, gamma=0.01, kernel=sigmoid; total time=   1.0s\n",
      "[CV] END ......................C=10, gamma=0.001, kernel=rbf; total time=   1.0s\n",
      "[CV] END ......................C=10, gamma=0.001, kernel=rbf; total time=   1.0s\n",
      "[CV] END ......................C=10, gamma=0.001, kernel=rbf; total time=   1.0s\n",
      "[CV] END ......................C=10, gamma=0.001, kernel=rbf; total time=   1.1s\n",
      "[CV] END ......................C=10, gamma=0.001, kernel=rbf; total time=   1.0s\n",
      "[CV] END .....................C=10, gamma=0.001, kernel=poly; total time=   0.8s\n",
      "[CV] END .....................C=10, gamma=0.001, kernel=poly; total time=   0.7s\n",
      "[CV] END .....................C=10, gamma=0.001, kernel=poly; total time=   0.7s\n",
      "[CV] END .....................C=10, gamma=0.001, kernel=poly; total time=   0.8s\n",
      "[CV] END .....................C=10, gamma=0.001, kernel=poly; total time=   0.7s\n",
      "[CV] END ..................C=10, gamma=0.001, kernel=sigmoid; total time=   1.0s\n",
      "[CV] END ..................C=10, gamma=0.001, kernel=sigmoid; total time=   1.0s\n",
      "[CV] END ..................C=10, gamma=0.001, kernel=sigmoid; total time=   0.9s\n",
      "[CV] END ..................C=10, gamma=0.001, kernel=sigmoid; total time=   1.0s\n",
      "[CV] END ..................C=10, gamma=0.001, kernel=sigmoid; total time=   0.9s\n",
      "[CV] END .........................C=100, gamma=1, kernel=rbf; total time=   1.5s\n",
      "[CV] END .........................C=100, gamma=1, kernel=rbf; total time=   1.5s\n",
      "[CV] END .........................C=100, gamma=1, kernel=rbf; total time=   1.5s\n",
      "[CV] END .........................C=100, gamma=1, kernel=rbf; total time=   1.5s\n",
      "[CV] END .........................C=100, gamma=1, kernel=rbf; total time=   1.5s\n",
      "[CV] END ........................C=100, gamma=1, kernel=poly; total time=   1.4s\n",
      "[CV] END ........................C=100, gamma=1, kernel=poly; total time=   1.5s\n",
      "[CV] END ........................C=100, gamma=1, kernel=poly; total time=   1.6s\n",
      "[CV] END ........................C=100, gamma=1, kernel=poly; total time=   1.5s\n",
      "[CV] END ........................C=100, gamma=1, kernel=poly; total time=   1.5s\n",
      "[CV] END .....................C=100, gamma=1, kernel=sigmoid; total time=   0.7s\n",
      "[CV] END .....................C=100, gamma=1, kernel=sigmoid; total time=   0.8s\n",
      "[CV] END .....................C=100, gamma=1, kernel=sigmoid; total time=   0.5s\n",
      "[CV] END .....................C=100, gamma=1, kernel=sigmoid; total time=   0.7s\n",
      "[CV] END .....................C=100, gamma=1, kernel=sigmoid; total time=   0.9s\n",
      "[CV] END .......................C=100, gamma=0.1, kernel=rbf; total time=   1.1s\n",
      "[CV] END .......................C=100, gamma=0.1, kernel=rbf; total time=   1.2s\n",
      "[CV] END .......................C=100, gamma=0.1, kernel=rbf; total time=   1.2s\n",
      "[CV] END .......................C=100, gamma=0.1, kernel=rbf; total time=   1.2s\n",
      "[CV] END .......................C=100, gamma=0.1, kernel=rbf; total time=   1.2s\n",
      "[CV] END ......................C=100, gamma=0.1, kernel=poly; total time=   1.3s\n",
      "[CV] END ......................C=100, gamma=0.1, kernel=poly; total time=   1.3s\n",
      "[CV] END ......................C=100, gamma=0.1, kernel=poly; total time=   1.4s\n",
      "[CV] END ......................C=100, gamma=0.1, kernel=poly; total time=   1.4s\n",
      "[CV] END ......................C=100, gamma=0.1, kernel=poly; total time=   1.4s\n",
      "[CV] END ...................C=100, gamma=0.1, kernel=sigmoid; total time=   1.1s\n",
      "[CV] END ...................C=100, gamma=0.1, kernel=sigmoid; total time=   1.1s\n",
      "[CV] END ...................C=100, gamma=0.1, kernel=sigmoid; total time=   1.2s\n",
      "[CV] END ...................C=100, gamma=0.1, kernel=sigmoid; total time=   1.1s\n",
      "[CV] END ...................C=100, gamma=0.1, kernel=sigmoid; total time=   1.4s\n",
      "[CV] END ......................C=100, gamma=0.01, kernel=rbf; total time=   1.0s\n",
      "[CV] END ......................C=100, gamma=0.01, kernel=rbf; total time=   1.0s\n",
      "[CV] END ......................C=100, gamma=0.01, kernel=rbf; total time=   1.0s\n",
      "[CV] END ......................C=100, gamma=0.01, kernel=rbf; total time=   1.0s\n",
      "[CV] END ......................C=100, gamma=0.01, kernel=rbf; total time=   1.0s\n",
      "[CV] END .....................C=100, gamma=0.01, kernel=poly; total time=   0.7s\n",
      "[CV] END .....................C=100, gamma=0.01, kernel=poly; total time=   0.7s\n",
      "[CV] END .....................C=100, gamma=0.01, kernel=poly; total time=   0.7s\n",
      "[CV] END .....................C=100, gamma=0.01, kernel=poly; total time=   0.7s\n",
      "[CV] END .....................C=100, gamma=0.01, kernel=poly; total time=   0.7s\n",
      "[CV] END ..................C=100, gamma=0.01, kernel=sigmoid; total time=   1.0s\n",
      "[CV] END ..................C=100, gamma=0.01, kernel=sigmoid; total time=   0.9s\n",
      "[CV] END ..................C=100, gamma=0.01, kernel=sigmoid; total time=   1.0s\n",
      "[CV] END ..................C=100, gamma=0.01, kernel=sigmoid; total time=   1.0s\n",
      "[CV] END ..................C=100, gamma=0.01, kernel=sigmoid; total time=   1.0s\n",
      "[CV] END .....................C=100, gamma=0.001, kernel=rbf; total time=   1.0s\n",
      "[CV] END .....................C=100, gamma=0.001, kernel=rbf; total time=   1.0s\n",
      "[CV] END .....................C=100, gamma=0.001, kernel=rbf; total time=   1.0s\n",
      "[CV] END .....................C=100, gamma=0.001, kernel=rbf; total time=   1.0s\n",
      "[CV] END .....................C=100, gamma=0.001, kernel=rbf; total time=   1.0s\n",
      "[CV] END ....................C=100, gamma=0.001, kernel=poly; total time=   0.7s\n",
      "[CV] END ....................C=100, gamma=0.001, kernel=poly; total time=   0.7s\n",
      "[CV] END ....................C=100, gamma=0.001, kernel=poly; total time=   0.7s\n",
      "[CV] END ....................C=100, gamma=0.001, kernel=poly; total time=   0.7s\n",
      "[CV] END ....................C=100, gamma=0.001, kernel=poly; total time=   0.7s\n",
      "[CV] END .................C=100, gamma=0.001, kernel=sigmoid; total time=   1.0s\n",
      "[CV] END .................C=100, gamma=0.001, kernel=sigmoid; total time=   1.0s\n",
      "[CV] END .................C=100, gamma=0.001, kernel=sigmoid; total time=   1.0s\n",
      "[CV] END .................C=100, gamma=0.001, kernel=sigmoid; total time=   1.0s\n",
      "[CV] END .................C=100, gamma=0.001, kernel=sigmoid; total time=   0.9s\n"
     ]
    },
    {
     "data": {
      "text/html": [
       "<style>#sk-container-id-1 {color: black;}#sk-container-id-1 pre{padding: 0;}#sk-container-id-1 div.sk-toggleable {background-color: white;}#sk-container-id-1 label.sk-toggleable__label {cursor: pointer;display: block;width: 100%;margin-bottom: 0;padding: 0.3em;box-sizing: border-box;text-align: center;}#sk-container-id-1 label.sk-toggleable__label-arrow:before {content: \"▸\";float: left;margin-right: 0.25em;color: #696969;}#sk-container-id-1 label.sk-toggleable__label-arrow:hover:before {color: black;}#sk-container-id-1 div.sk-estimator:hover label.sk-toggleable__label-arrow:before {color: black;}#sk-container-id-1 div.sk-toggleable__content {max-height: 0;max-width: 0;overflow: hidden;text-align: left;background-color: #f0f8ff;}#sk-container-id-1 div.sk-toggleable__content pre {margin: 0.2em;color: black;border-radius: 0.25em;background-color: #f0f8ff;}#sk-container-id-1 input.sk-toggleable__control:checked~div.sk-toggleable__content {max-height: 200px;max-width: 100%;overflow: auto;}#sk-container-id-1 input.sk-toggleable__control:checked~label.sk-toggleable__label-arrow:before {content: \"▾\";}#sk-container-id-1 div.sk-estimator input.sk-toggleable__control:checked~label.sk-toggleable__label {background-color: #d4ebff;}#sk-container-id-1 div.sk-label input.sk-toggleable__control:checked~label.sk-toggleable__label {background-color: #d4ebff;}#sk-container-id-1 input.sk-hidden--visually {border: 0;clip: rect(1px 1px 1px 1px);clip: rect(1px, 1px, 1px, 1px);height: 1px;margin: -1px;overflow: hidden;padding: 0;position: absolute;width: 1px;}#sk-container-id-1 div.sk-estimator {font-family: monospace;background-color: #f0f8ff;border: 1px dotted black;border-radius: 0.25em;box-sizing: border-box;margin-bottom: 0.5em;}#sk-container-id-1 div.sk-estimator:hover {background-color: #d4ebff;}#sk-container-id-1 div.sk-parallel-item::after {content: \"\";width: 100%;border-bottom: 1px solid gray;flex-grow: 1;}#sk-container-id-1 div.sk-label:hover label.sk-toggleable__label {background-color: #d4ebff;}#sk-container-id-1 div.sk-serial::before {content: \"\";position: absolute;border-left: 1px solid gray;box-sizing: border-box;top: 0;bottom: 0;left: 50%;z-index: 0;}#sk-container-id-1 div.sk-serial {display: flex;flex-direction: column;align-items: center;background-color: white;padding-right: 0.2em;padding-left: 0.2em;position: relative;}#sk-container-id-1 div.sk-item {position: relative;z-index: 1;}#sk-container-id-1 div.sk-parallel {display: flex;align-items: stretch;justify-content: center;background-color: white;position: relative;}#sk-container-id-1 div.sk-item::before, #sk-container-id-1 div.sk-parallel-item::before {content: \"\";position: absolute;border-left: 1px solid gray;box-sizing: border-box;top: 0;bottom: 0;left: 50%;z-index: -1;}#sk-container-id-1 div.sk-parallel-item {display: flex;flex-direction: column;z-index: 1;position: relative;background-color: white;}#sk-container-id-1 div.sk-parallel-item:first-child::after {align-self: flex-end;width: 50%;}#sk-container-id-1 div.sk-parallel-item:last-child::after {align-self: flex-start;width: 50%;}#sk-container-id-1 div.sk-parallel-item:only-child::after {width: 0;}#sk-container-id-1 div.sk-dashed-wrapped {border: 1px dashed gray;margin: 0 0.4em 0.5em 0.4em;box-sizing: border-box;padding-bottom: 0.4em;background-color: white;}#sk-container-id-1 div.sk-label label {font-family: monospace;font-weight: bold;display: inline-block;line-height: 1.2em;}#sk-container-id-1 div.sk-label-container {text-align: center;}#sk-container-id-1 div.sk-container {/* jupyter's `normalize.less` sets `[hidden] { display: none; }` but bootstrap.min.css set `[hidden] { display: none !important; }` so we also need the `!important` here to be able to override the default hidden behavior on the sphinx rendered scikit-learn.org. See: https://github.com/scikit-learn/scikit-learn/issues/21755 */display: inline-block !important;position: relative;}#sk-container-id-1 div.sk-text-repr-fallback {display: none;}</style><div id=\"sk-container-id-1\" class=\"sk-top-container\"><div class=\"sk-text-repr-fallback\"><pre>GridSearchCV(error_score=&#x27;raise&#x27;, estimator=SVC(),\n",
       "             param_grid={&#x27;C&#x27;: [0.1, 1, 10, 100], &#x27;gamma&#x27;: [1, 0.1, 0.01, 0.001],\n",
       "                         &#x27;kernel&#x27;: [&#x27;rbf&#x27;, &#x27;poly&#x27;, &#x27;sigmoid&#x27;]},\n",
       "             verbose=2)</pre><b>In a Jupyter environment, please rerun this cell to show the HTML representation or trust the notebook. <br />On GitHub, the HTML representation is unable to render, please try loading this page with nbviewer.org.</b></div><div class=\"sk-container\" hidden><div class=\"sk-item sk-dashed-wrapped\"><div class=\"sk-label-container\"><div class=\"sk-label sk-toggleable\"><input class=\"sk-toggleable__control sk-hidden--visually\" id=\"sk-estimator-id-1\" type=\"checkbox\" ><label for=\"sk-estimator-id-1\" class=\"sk-toggleable__label sk-toggleable__label-arrow\">GridSearchCV</label><div class=\"sk-toggleable__content\"><pre>GridSearchCV(error_score=&#x27;raise&#x27;, estimator=SVC(),\n",
       "             param_grid={&#x27;C&#x27;: [0.1, 1, 10, 100], &#x27;gamma&#x27;: [1, 0.1, 0.01, 0.001],\n",
       "                         &#x27;kernel&#x27;: [&#x27;rbf&#x27;, &#x27;poly&#x27;, &#x27;sigmoid&#x27;]},\n",
       "             verbose=2)</pre></div></div></div><div class=\"sk-parallel\"><div class=\"sk-parallel-item\"><div class=\"sk-item\"><div class=\"sk-label-container\"><div class=\"sk-label sk-toggleable\"><input class=\"sk-toggleable__control sk-hidden--visually\" id=\"sk-estimator-id-2\" type=\"checkbox\" ><label for=\"sk-estimator-id-2\" class=\"sk-toggleable__label sk-toggleable__label-arrow\">estimator: SVC</label><div class=\"sk-toggleable__content\"><pre>SVC()</pre></div></div></div><div class=\"sk-serial\"><div class=\"sk-item\"><div class=\"sk-estimator sk-toggleable\"><input class=\"sk-toggleable__control sk-hidden--visually\" id=\"sk-estimator-id-3\" type=\"checkbox\" ><label for=\"sk-estimator-id-3\" class=\"sk-toggleable__label sk-toggleable__label-arrow\">SVC</label><div class=\"sk-toggleable__content\"><pre>SVC()</pre></div></div></div></div></div></div></div></div></div></div>"
      ],
      "text/plain": [
       "GridSearchCV(error_score='raise', estimator=SVC(),\n",
       "             param_grid={'C': [0.1, 1, 10, 100], 'gamma': [1, 0.1, 0.01, 0.001],\n",
       "                         'kernel': ['rbf', 'poly', 'sigmoid']},\n",
       "             verbose=2)"
      ]
     },
     "execution_count": 77,
     "metadata": {},
     "output_type": "execute_result"
    }
   ],
   "source": [
    "# Optimizing hyperparameters using GridSearchCV\n",
    "from sklearn.model_selection import GridSearchCV\n",
    "\n",
    "\n",
    "param_grid = {\"C\": [0.1, 1, 10, 100], \"gamma\": [1, 0.1, 0.01, 0.001]\n",
    "              , \"kernel\": ['rbf', 'poly', 'sigmoid']}\n",
    "\n",
    "grid = GridSearchCV(SVC(), param_grid, refit=True, verbose=2, error_score='raise')\n",
    "grid.fit(tf_x_train, y_train)"
   ]
  },
  {
   "cell_type": "code",
   "execution_count": 78,
   "metadata": {},
   "outputs": [
    {
     "name": "stdout",
     "output_type": "stream",
     "text": [
      "Best parameters are {'C': 10, 'gamma': 0.1, 'kernel': 'rbf'}\n",
      "Best accuracy score 0.7377520358013043\n",
      "              precision    recall  f1-score   support\n",
      "\n",
      "           0       0.69      0.57      0.62       143\n",
      "           1       0.77      0.86      0.81       713\n",
      "           2       0.68      0.58      0.62       356\n",
      "\n",
      "    accuracy                           0.74      1212\n",
      "   macro avg       0.72      0.67      0.69      1212\n",
      "weighted avg       0.74      0.74      0.74      1212\n",
      "\n"
     ]
    }
   ],
   "source": [
    "grid_predictions = grid.predict(tf_x_test)\n",
    "\n",
    "print(\"Best parameters are {}\".format(grid.best_params_))\n",
    "print(\"Best accuracy score {}\".format(grid.best_score_))\n",
    "print(classification_report(y_test, grid_predictions))"
   ]
  },
  {
   "cell_type": "markdown",
   "metadata": {},
   "source": [
    "## Method 4 LLMs"
   ]
  },
  {
   "cell_type": "code",
   "execution_count": 79,
   "metadata": {},
   "outputs": [],
   "source": [
    "import transformers\n",
    "from transformers import BertModel, BertTokenizer, AdamW, get_linear_schedule_with_warmup\n",
    "import torch\n",
    "from torch import nn, optim\n",
    "from torch.utils.data import Dataset, DataLoader\n",
    "\n",
    "device = torch.device(\"cuda\" if torch.cuda.is_available() else \"cpu\")"
   ]
  },
  {
   "cell_type": "code",
   "execution_count": 80,
   "metadata": {},
   "outputs": [],
   "source": [
    "# Model\n",
    "MODEL_NAME = 'bert-base-cased'\n",
    "\n",
    "# Tokenizer\n",
    "tokenizer = BertTokenizer.from_pretrained(MODEL_NAME)"
   ]
  },
  {
   "cell_type": "code",
   "execution_count": 81,
   "metadata": {},
   "outputs": [
    {
     "name": "stderr",
     "output_type": "stream",
     "text": [
      "Truncation was not explicitly activated but `max_length` is provided a specific value, please use `truncation=True` to explicitly truncate examples to max length. Defaulting to 'longest_first' truncation strategy. If you encode pairs of sequences (GLUE-style) with the tokenizer you can select this strategy more precisely by providing a specific strategy to `truncation`.\n"
     ]
    },
    {
     "name": "stderr",
     "output_type": "stream",
     "text": [
      "C:\\Users\\fabian\\AppData\\Local\\Temp\\ipykernel_24064\\3043336594.py:8: UserWarning: \n",
      "\n",
      "`distplot` is a deprecated function and will be removed in seaborn v0.14.0.\n",
      "\n",
      "Please adapt your code to use either `displot` (a figure-level function with\n",
      "similar flexibility) or `histplot` (an axes-level function for histograms).\n",
      "\n",
      "For a guide to updating your code to use the new functions, please see\n",
      "https://gist.github.com/mwaskom/de44147ed2974457ad6372750bbe5751\n",
      "\n",
      "  sns.distplot(token_lens)\n"
     ]
    },
    {
     "data": {
      "text/plain": [
       "Text(0.5, 0, 'Token count')"
      ]
     },
     "execution_count": 81,
     "metadata": {},
     "output_type": "execute_result"
    },
    {
     "data": {
      "image/png": "[encoded data removed]",
      "text/plain": [
       "<Figure size 640x480 with 1 Axes>"
      ]
     },
     "metadata": {},
     "output_type": "display_data"
    }
   ],
   "source": [
    "token_lens = []\n",
    "\n",
    "# Set max length to 512\n",
    "for review in df.preprocess_text:\n",
    "    tokens = tokenizer.encode(review, max_length=512)\n",
    "    token_lens.append(len(tokens))\n",
    "\n",
    "sns.distplot(token_lens)\n",
    "plt.xlim([0, 256])\n",
    "plt.xlabel('Token count')"
   ]
  },
  {
   "cell_type": "code",
   "execution_count": 82,
   "metadata": {},
   "outputs": [],
   "source": [
    "# Turns out we only need 80-ish tokens to work with\n",
    "MAX_LEN = 80\n",
    "\n",
    "# Preparing Torch Dataset\n",
    "class ReviewDataset(Dataset):\n",
    "\n",
    "    def __init__ (self, texts, targets, tokenizer, max_len):\n",
    "        self.texts = texts\n",
    "        self.targets = targets\n",
    "        self.tokenizer = tokenizer\n",
    "        self.max_len = max_len\n",
    "    \n",
    "\n",
    "    def __len__(self):\n",
    "        return len(self.texts)\n",
    "    \n",
    "    def __getitem__(self, item):\n",
    "        text = str(self.texts[item])\n",
    "        target = self.targets[item]\n",
    "\n",
    "        encoding = self.tokenizer.encode_plus(\n",
    "            review,\n",
    "            add_special_tokens=True,\n",
    "            max_length=self.max_len,\n",
    "            return_token_type_ids=False,\n",
    "            pad_to_max_length=True,\n",
    "            return_attention_mask=True,\n",
    "            return_tensors='pt'\n",
    "        )\n",
    "\n",
    "        return {\n",
    "            'news_text': text,\n",
    "            'input_ids': encoding['input_ids'].flatten(),\n",
    "            'attention_mask': encoding['attention_mask'].flatten(),\n",
    "            'targets': torch.tensor(target, dtype=torch.long)\n",
    "        }"
   ]
  },
  {
   "cell_type": "code",
   "execution_count": 83,
   "metadata": {},
   "outputs": [
    {
     "name": "stdout",
     "output_type": "stream",
     "text": [
      "(3876, 24) (485, 24) (485, 24)\n"
     ]
    }
   ],
   "source": [
    "df_train, df_test = train_test_split(df, test_size=0.2, random_state=42)\n",
    "df_val, df_test = train_test_split(df_test, test_size=0.5, random_state=42)\n",
    "\n",
    "print(df_train.shape, df_val.shape, df_test.shape)"
   ]
  },
  {
   "cell_type": "code",
   "execution_count": 84,
   "metadata": {},
   "outputs": [],
   "source": [
    "# dataloader to release data in batches\n",
    "\n",
    "def create_data_loader(df, tokenizer, max_len, batch_size):\n",
    "    ds = ReviewDataset(\n",
    "        texts=df.preprocess_text.to_numpy(),\n",
    "        targets=df.label.to_numpy(),\n",
    "        tokenizer=tokenizer,\n",
    "        max_len=max_len\n",
    "    )\n",
    "\n",
    "    return DataLoader(\n",
    "        ds,\n",
    "        batch_size=batch_size,\n",
    "        num_workers=0\n",
    "    )"
   ]
  },
  {
   "cell_type": "code",
   "execution_count": 85,
   "metadata": {},
   "outputs": [
    {
     "name": "stdout",
     "output_type": "stream",
     "text": [
      "dict_keys(['news_text', 'input_ids', 'attention_mask', 'targets'])\n",
      "torch.Size([16, 80])\n",
      "torch.Size([16, 80])\n",
      "torch.Size([16])\n"
     ]
    },
    {
     "name": "stderr",
     "output_type": "stream",
     "text": [
      "c:\\Users\\fabian\\anaconda3\\envs\\ML-DS\\Lib\\site-packages\\transformers\\tokenization_utils_base.py:2418: FutureWarning: The `pad_to_max_length` argument is deprecated and will be removed in a future version, use `padding=True` or `padding='longest'` to pad to the longest sequence in the batch, or use `padding='max_length'` to pad to a max length. In this case, you can give a specific length with `max_length` (e.g. `max_length=45`) or leave max_length to None to pad to the maximal input size of the model (e.g. 512 for Bert).\n",
      "  warnings.warn(\n"
     ]
    }
   ],
   "source": [
    "BATCH_SIZE = 16\n",
    "\n",
    "train_data_loader = create_data_loader(df_train, tokenizer, MAX_LEN, BATCH_SIZE)\n",
    "val_data_loader = create_data_loader(df_val, tokenizer, MAX_LEN, BATCH_SIZE)\n",
    "test_data_loader = create_data_loader(df_test, tokenizer, MAX_LEN, BATCH_SIZE)\n",
    "\n",
    "data = next(iter(train_data_loader))\n",
    "print(data.keys())\n",
    "\n",
    "print(data['input_ids'].shape)\n",
    "print(data['attention_mask'].shape)\n",
    "print(data['targets'].shape)"
   ]
  },
  {
   "cell_type": "code",
   "execution_count": 86,
   "metadata": {},
   "outputs": [],
   "source": [
    "bert_model = BertModel.from_pretrained(MODEL_NAME)"
   ]
  },
  {
   "cell_type": "code",
   "execution_count": 87,
   "metadata": {},
   "outputs": [],
   "source": [
    "# Sentiment Analysis class\n",
    "\n",
    "class SentimentAnalysis(nn.Module):\n",
    "\n",
    "    def __init__(self, n_classes):\n",
    "        super(SentimentAnalysis, self).__init__()\n",
    "        self.bert = BertModel.from_pretrained(MODEL_NAME)\n",
    "        self.drop = nn.Dropout(p=0.3) # common dropout rate\n",
    "        self.out = nn.Linear(self.bert.config.hidden_size, n_classes)\n",
    "\n",
    "    def forward_prop(self, input_ids, attention_mask):\n",
    "        _, pooled_output = self.bert(\n",
    "            input_ids=input_ids,\n",
    "            attention_mask=attention_mask\n",
    "        )\n",
    "\n",
    "        output = self.drop(pooled_output)\n",
    "        return self.out(output)"
   ]
  },
  {
   "cell_type": "code",
   "execution_count": 88,
   "metadata": {},
   "outputs": [
    {
     "name": "stdout",
     "output_type": "stream",
     "text": [
      "768\n"
     ]
    }
   ],
   "source": [
    "# Instantiate Classifier\n",
    "class_names = ['negative', 'neutral', 'positive']\n",
    "model = SentimentAnalysis(len(class_names))\n",
    "model = model.to(device)\n",
    "\n",
    "# Hidden units\n",
    "print(bert_model.config.hidden_size)"
   ]
  },
  {
   "cell_type": "code",
   "execution_count": 89,
   "metadata": {},
   "outputs": [
    {
     "name": "stderr",
     "output_type": "stream",
     "text": [
      "c:\\Users\\fabian\\anaconda3\\envs\\ML-DS\\Lib\\site-packages\\transformers\\optimization.py:411: FutureWarning: This implementation of AdamW is deprecated and will be removed in a future version. Use the PyTorch implementation torch.optim.AdamW instead, or set `no_deprecation_warning=True` to disable this warning\n",
      "  warnings.warn(\n"
     ]
    }
   ],
   "source": [
    "# Training\n",
    "EPOCHS = 10\n",
    "\n",
    "optimizer = AdamW(model.parameters(), lr=2e-5, correct_bias=False)\n",
    "\n",
    "total_steps = len(train_data_loader) * EPOCHS\n",
    "\n",
    "scheduler = get_linear_schedule_with_warmup(\n",
    "    optimizer,\n",
    "    num_warmup_steps=0,\n",
    "    num_training_steps=total_steps\n",
    ")\n",
    "\n",
    "loss_fn = nn.CrossEntropyLoss().to(device)"
   ]
  },
  {
   "cell_type": "markdown",
   "metadata": {},
   "source": [
    "# Model Evaluation"
   ]
  }
 ],
 "metadata": {
  "kernelspec": {
   "display_name": "base",
   "language": "python",
   "name": "python3"
  },
  "language_info": {
   "codemirror_mode": {
    "name": "ipython",
    "version": 3
   },
   "file_extension": ".py",
   "mimetype": "text/x-python",
   "name": "python",
   "nbconvert_exporter": "python",
   "pygments_lexer": "ipython3",
   "version": "3.11.5"
  }
 },
 "nbformat": 4,
 "nbformat_minor": 2
}
